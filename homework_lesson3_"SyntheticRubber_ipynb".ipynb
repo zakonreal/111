{
  "cells": [
    {
      "cell_type": "markdown",
      "metadata": {
        "id": "view-in-github",
        "colab_type": "text"
      },
      "source": [
        "<a href=\"https://colab.research.google.com/github/zakonreal/111/blob/main/homework_lesson3_%22SyntheticRubber_ipynb%22.ipynb\" target=\"_parent\"><img src=\"https://colab.research.google.com/assets/colab-badge.svg\" alt=\"Open In Colab\"/></a>"
      ]
    },
    {
      "cell_type": "markdown",
      "source": [
        "[![Open In Colab](https://colab.research.google.com/assets/colab-badge.svg)](https://colab.research.google.com/github/da-python/python-for-data-analytics/blob/main/Lesson3/hometask/SyntheticRubber.ipynb)"
      ],
      "metadata": {
        "collapsed": false,
        "pycharm": {
          "name": "#%% md\n"
        },
        "id": "0DHrYSy0GxPN"
      }
    },
    {
      "cell_type": "code",
      "source": [
        "!pip3 install yfinance\n",
        "!pip3 install xlsxwriter"
      ],
      "metadata": {
        "id": "JB0Uye-SG3Fj",
        "outputId": "89dadc18-461e-41a4-8035-dcbbcb2ecaf1",
        "colab": {
          "base_uri": "https://localhost:8080/"
        }
      },
      "execution_count": null,
      "outputs": [
        {
          "output_type": "stream",
          "name": "stdout",
          "text": [
            "Looking in indexes: https://pypi.org/simple, https://us-python.pkg.dev/colab-wheels/public/simple/\n",
            "Requirement already satisfied: yfinance in /usr/local/lib/python3.7/dist-packages (0.1.72)\n",
            "Requirement already satisfied: pandas>=0.24.0 in /usr/local/lib/python3.7/dist-packages (from yfinance) (1.3.5)\n",
            "Requirement already satisfied: multitasking>=0.0.7 in /usr/local/lib/python3.7/dist-packages (from yfinance) (0.0.10)\n",
            "Requirement already satisfied: lxml>=4.5.1 in /usr/local/lib/python3.7/dist-packages (from yfinance) (4.9.1)\n",
            "Requirement already satisfied: requests>=2.26 in /usr/local/lib/python3.7/dist-packages (from yfinance) (2.28.1)\n",
            "Requirement already satisfied: numpy>=1.15 in /usr/local/lib/python3.7/dist-packages (from yfinance) (1.21.6)\n",
            "Requirement already satisfied: pytz>=2017.3 in /usr/local/lib/python3.7/dist-packages (from pandas>=0.24.0->yfinance) (2022.1)\n",
            "Requirement already satisfied: python-dateutil>=2.7.3 in /usr/local/lib/python3.7/dist-packages (from pandas>=0.24.0->yfinance) (2.8.2)\n",
            "Requirement already satisfied: six>=1.5 in /usr/local/lib/python3.7/dist-packages (from python-dateutil>=2.7.3->pandas>=0.24.0->yfinance) (1.15.0)\n",
            "Requirement already satisfied: charset-normalizer<3,>=2 in /usr/local/lib/python3.7/dist-packages (from requests>=2.26->yfinance) (2.1.0)\n",
            "Requirement already satisfied: certifi>=2017.4.17 in /usr/local/lib/python3.7/dist-packages (from requests>=2.26->yfinance) (2022.6.15)\n",
            "Requirement already satisfied: urllib3<1.27,>=1.21.1 in /usr/local/lib/python3.7/dist-packages (from requests>=2.26->yfinance) (1.24.3)\n",
            "Requirement already satisfied: idna<4,>=2.5 in /usr/local/lib/python3.7/dist-packages (from requests>=2.26->yfinance) (2.10)\n",
            "Looking in indexes: https://pypi.org/simple, https://us-python.pkg.dev/colab-wheels/public/simple/\n",
            "Requirement already satisfied: xlsxwriter in /usr/local/lib/python3.7/dist-packages (3.0.3)\n"
          ]
        }
      ]
    },
    {
      "cell_type": "code",
      "execution_count": null,
      "outputs": [],
      "source": [
        "import os\n",
        "import requests\n",
        "import yfinance as yf\n",
        "import pandas as pd\n",
        "import matplotlib.pyplot as plt\n",
        "import seaborn; seaborn.set()\n",
        "from bs4 import BeautifulSoup\n",
        "import numpy as np\n",
        "from tqdm.auto import tqdm\n",
        "pd.options.display.max_rows = 10"
      ],
      "metadata": {
        "pycharm": {
          "name": "#%%\n"
        },
        "id": "8dtlD49jGxPZ"
      }
    },
    {
      "cell_type": "code",
      "execution_count": null,
      "outputs": [],
      "source": [
        "# Для работы с API может потребоваться обходное решение для работы с SSL сертификатом\n",
        "# import ssl\n",
        "# ssl._create_default_https_context = ssl._create_unverified_context"
      ],
      "metadata": {
        "pycharm": {
          "name": "#%%\n"
        },
        "id": "h9F8GNC0GxPe"
      }
    },
    {
      "cell_type": "markdown",
      "metadata": {
        "pycharm": {
          "name": "#%% md\n"
        },
        "id": "fRBJuYpvGxPi"
      },
      "source": [
        "# Задание 1.\n",
        "\n",
        "* Вы - менеджер по продажам в нефтехимической компании.\n",
        "* Вы ведете несколько ключевых клиентов, которые закупают продукты вашей компании.\n",
        "* Ваши клиенты предпочитают формульный подход к ценообразованию и вам нужно предложить клиентам формулу цены на синтетический каучук, который может быть альтернативой натуральному каучуку с грейдом SMR 20.\n",
        "* В зависимости от объемов, которые покупают клиенты, им может быть предложена скидка.\n"
      ]
    },
    {
      "cell_type": "markdown",
      "source": [
        "### Что нужно сделать?\n",
        "\n",
        "1. Проанализировать имеющиеся данные.\n",
        "2. Определить базовую формулу цены на условиях FCA (цена на заводе). То есть как бы выглядела цена на исторических данных.\n",
        "3. Отобразить на графике.\n",
        "4. Сделать расчет возможной цены по формуле для каждого из клиентов на условиях DDP (цена с доставкой). Записать все в один эксель файл, на разных листах. Каждый лист - название клиента.\n",
        "5. Предложить формулу цены каждому из клиентов на условиях DDP (цена с доставкой).\n",
        "- Создать директорию «для клиентов» и в ней сложить  файлы с расчетами.\n",
        "- Каждый клиент - отдельный файл (любой из docx, xlsx, pptx, pdf)  с именем клиента…\n",
        "\n",
        "### В результате должно быть 3 файла:\n",
        "1. Ноутбук с расчетами и графиками.\n",
        "2. Скрипт, который делает расчет цены для каждого клиента в одном файле\n",
        "2. Скрипт, который делает расчет цены для каждого клиента в отельном файле"
      ],
      "metadata": {
        "collapsed": false,
        "pycharm": {
          "name": "#%% md\n"
        },
        "id": "V_wm_98rGxPp"
      }
    },
    {
      "cell_type": "code",
      "execution_count": null,
      "metadata": {
        "pycharm": {
          "name": "#%%\n"
        },
        "id": "xoi2zURsGxPk"
      },
      "outputs": [],
      "source": [
        "# Из данных есть:\n",
        "# Затраты на производство\n",
        "PRODUCTION_COST = 400 # (EUR)\n",
        "\n",
        "# Расходы на логистику\n",
        "EU_LOGISTIC_COST_EUR = 30 # в Европу в евро\n",
        "CN_LOGISTIC_COST_USD = 130 # в Китай в долларах\n",
        "\n",
        "# * Справочная информация по клиентам(объемы, локации, комментарии)\n",
        "customers = {\n",
        "    'Monty':{\n",
        "        'location':'EU',\n",
        "        'volumes':200,\n",
        "        'comment':'moving_average'\n",
        "    },\n",
        "\n",
        "    'Triangle':{\n",
        "        'location':'CN',\n",
        "        'volumes': 30,\n",
        "        'comment': 'monthly'\n",
        "    },\n",
        "    'Stone':{\n",
        "        'location':'EU',\n",
        "        'volumes': 150,\n",
        "        'comment': 'moving_average'\n",
        "    },\n",
        "    'Poly':{\n",
        "        'location':'EU',\n",
        "        'volumes': 70,\n",
        "        'comment': 'monthly'\n",
        "    }\n",
        "}\n",
        "# Скидки\n",
        "discounts = {'up to 100': 0.01, # 1%\n",
        "             'up to 300': 0.05, # 5%\n",
        "             '300 plus': 0.1}   #10%\n"
      ]
    },
    {
      "cell_type": "code",
      "execution_count": null,
      "metadata": {
        "pycharm": {
          "name": "#%%\n"
        },
        "id": "BH7LQwtxGxPn"
      },
      "outputs": [],
      "source": [
        "# Котировки натурального каучука доступны на сайте,  https://www.lgm.gov.my\n",
        "# также у них есть API, пример запроса ниже\n",
        "#\n",
        "# year = '2022'\n",
        "# month = '05'\n",
        "# url = f\"https://www.lgm.gov.my/webv2api/api/rubberprice/month={month}&year={year}\"\n",
        "# res = requests.get(url)\n",
        "# rj = res.json()\n",
        "# df = pd.json_normalize(rj)\n",
        "# df.head()"
      ]
    },
    {
      "cell_type": "code",
      "source": [
        "# Котировки натурального каучука за период 2019-2022\n",
        "year1 = '2022'\n",
        "year2 = '2019'\n",
        "month1 = '01'\n",
        "month2 = '12'\n",
        "df_rubber = pd.DataFrame()\n",
        "for i in ['2019', '2020', '2021', '2022']:\n",
        "  for j in ['01', '02', '03', '04','05', '06', '07', '08','09', '10', '11', '12']:\n",
        "    url = f\"https://www.lgm.gov.my/webv2api/api/rubberprice/month={j}&year={i}\"\n",
        "    res = requests.get(url)\n",
        "    rj = res.json()\n",
        "    df1 = pd.json_normalize(rj)\n",
        "    df_rubber = df_rubber.append(df1, ignore_index=True)"
      ],
      "metadata": {
        "id": "QtVeEMPaKjbm"
      },
      "execution_count": null,
      "outputs": []
    },
    {
      "cell_type": "code",
      "source": [
        "df_rubber"
      ],
      "metadata": {
        "colab": {
          "base_uri": "https://localhost:8080/",
          "height": 423
        },
        "id": "y72VWq9ti9l_",
        "outputId": "5c4634c8-ffa4-4620-9ddc-276953533c11"
      },
      "execution_count": null,
      "outputs": [
        {
          "output_type": "execute_result",
          "data": {
            "text/plain": [
              "            date          grade  masa      rm      us    tone\n",
              "0     2019-01-31         SMR CV  Noon  770.00  191.30   Quiet\n",
              "1     2019-01-31          SMR L  Noon  750.00  186.35   Quiet\n",
              "2     2019-01-31          SMR 5  Noon  549.50  136.50   Quiet\n",
              "3     2019-01-31         SMR GP  Noon  546.50  135.80   Quiet\n",
              "4     2019-01-31         SMR 10  Noon  539.50  134.05   Quiet\n",
              "...          ...            ...   ...     ...     ...     ...\n",
              "5966  2022-07-01          SMR 5  Noon  726.00  167.60  Steady\n",
              "5967  2022-07-01         SMR GP  Noon  723.00  166.90  Steady\n",
              "5968  2022-07-01         SMR 10  Noon  716.00  165.30  Steady\n",
              "5969  2022-07-01         SMR 20  Noon  714.00  164.80  Steady\n",
              "5970  2022-07-01  Latex in Bulk  Noon  567.00  567.00  Steady\n",
              "\n",
              "[5971 rows x 6 columns]"
            ],
            "text/html": [
              "\n",
              "  <div id=\"df-037ddeb7-e41e-4c1b-8b08-8c8799ff1d05\">\n",
              "    <div class=\"colab-df-container\">\n",
              "      <div>\n",
              "<style scoped>\n",
              "    .dataframe tbody tr th:only-of-type {\n",
              "        vertical-align: middle;\n",
              "    }\n",
              "\n",
              "    .dataframe tbody tr th {\n",
              "        vertical-align: top;\n",
              "    }\n",
              "\n",
              "    .dataframe thead th {\n",
              "        text-align: right;\n",
              "    }\n",
              "</style>\n",
              "<table border=\"1\" class=\"dataframe\">\n",
              "  <thead>\n",
              "    <tr style=\"text-align: right;\">\n",
              "      <th></th>\n",
              "      <th>date</th>\n",
              "      <th>grade</th>\n",
              "      <th>masa</th>\n",
              "      <th>rm</th>\n",
              "      <th>us</th>\n",
              "      <th>tone</th>\n",
              "    </tr>\n",
              "  </thead>\n",
              "  <tbody>\n",
              "    <tr>\n",
              "      <th>0</th>\n",
              "      <td>2019-01-31</td>\n",
              "      <td>SMR CV</td>\n",
              "      <td>Noon</td>\n",
              "      <td>770.00</td>\n",
              "      <td>191.30</td>\n",
              "      <td>Quiet</td>\n",
              "    </tr>\n",
              "    <tr>\n",
              "      <th>1</th>\n",
              "      <td>2019-01-31</td>\n",
              "      <td>SMR L</td>\n",
              "      <td>Noon</td>\n",
              "      <td>750.00</td>\n",
              "      <td>186.35</td>\n",
              "      <td>Quiet</td>\n",
              "    </tr>\n",
              "    <tr>\n",
              "      <th>2</th>\n",
              "      <td>2019-01-31</td>\n",
              "      <td>SMR 5</td>\n",
              "      <td>Noon</td>\n",
              "      <td>549.50</td>\n",
              "      <td>136.50</td>\n",
              "      <td>Quiet</td>\n",
              "    </tr>\n",
              "    <tr>\n",
              "      <th>3</th>\n",
              "      <td>2019-01-31</td>\n",
              "      <td>SMR GP</td>\n",
              "      <td>Noon</td>\n",
              "      <td>546.50</td>\n",
              "      <td>135.80</td>\n",
              "      <td>Quiet</td>\n",
              "    </tr>\n",
              "    <tr>\n",
              "      <th>4</th>\n",
              "      <td>2019-01-31</td>\n",
              "      <td>SMR 10</td>\n",
              "      <td>Noon</td>\n",
              "      <td>539.50</td>\n",
              "      <td>134.05</td>\n",
              "      <td>Quiet</td>\n",
              "    </tr>\n",
              "    <tr>\n",
              "      <th>...</th>\n",
              "      <td>...</td>\n",
              "      <td>...</td>\n",
              "      <td>...</td>\n",
              "      <td>...</td>\n",
              "      <td>...</td>\n",
              "      <td>...</td>\n",
              "    </tr>\n",
              "    <tr>\n",
              "      <th>5966</th>\n",
              "      <td>2022-07-01</td>\n",
              "      <td>SMR 5</td>\n",
              "      <td>Noon</td>\n",
              "      <td>726.00</td>\n",
              "      <td>167.60</td>\n",
              "      <td>Steady</td>\n",
              "    </tr>\n",
              "    <tr>\n",
              "      <th>5967</th>\n",
              "      <td>2022-07-01</td>\n",
              "      <td>SMR GP</td>\n",
              "      <td>Noon</td>\n",
              "      <td>723.00</td>\n",
              "      <td>166.90</td>\n",
              "      <td>Steady</td>\n",
              "    </tr>\n",
              "    <tr>\n",
              "      <th>5968</th>\n",
              "      <td>2022-07-01</td>\n",
              "      <td>SMR 10</td>\n",
              "      <td>Noon</td>\n",
              "      <td>716.00</td>\n",
              "      <td>165.30</td>\n",
              "      <td>Steady</td>\n",
              "    </tr>\n",
              "    <tr>\n",
              "      <th>5969</th>\n",
              "      <td>2022-07-01</td>\n",
              "      <td>SMR 20</td>\n",
              "      <td>Noon</td>\n",
              "      <td>714.00</td>\n",
              "      <td>164.80</td>\n",
              "      <td>Steady</td>\n",
              "    </tr>\n",
              "    <tr>\n",
              "      <th>5970</th>\n",
              "      <td>2022-07-01</td>\n",
              "      <td>Latex in Bulk</td>\n",
              "      <td>Noon</td>\n",
              "      <td>567.00</td>\n",
              "      <td>567.00</td>\n",
              "      <td>Steady</td>\n",
              "    </tr>\n",
              "  </tbody>\n",
              "</table>\n",
              "<p>5971 rows × 6 columns</p>\n",
              "</div>\n",
              "      <button class=\"colab-df-convert\" onclick=\"convertToInteractive('df-037ddeb7-e41e-4c1b-8b08-8c8799ff1d05')\"\n",
              "              title=\"Convert this dataframe to an interactive table.\"\n",
              "              style=\"display:none;\">\n",
              "        \n",
              "  <svg xmlns=\"http://www.w3.org/2000/svg\" height=\"24px\"viewBox=\"0 0 24 24\"\n",
              "       width=\"24px\">\n",
              "    <path d=\"M0 0h24v24H0V0z\" fill=\"none\"/>\n",
              "    <path d=\"M18.56 5.44l.94 2.06.94-2.06 2.06-.94-2.06-.94-.94-2.06-.94 2.06-2.06.94zm-11 1L8.5 8.5l.94-2.06 2.06-.94-2.06-.94L8.5 2.5l-.94 2.06-2.06.94zm10 10l.94 2.06.94-2.06 2.06-.94-2.06-.94-.94-2.06-.94 2.06-2.06.94z\"/><path d=\"M17.41 7.96l-1.37-1.37c-.4-.4-.92-.59-1.43-.59-.52 0-1.04.2-1.43.59L10.3 9.45l-7.72 7.72c-.78.78-.78 2.05 0 2.83L4 21.41c.39.39.9.59 1.41.59.51 0 1.02-.2 1.41-.59l7.78-7.78 2.81-2.81c.8-.78.8-2.07 0-2.86zM5.41 20L4 18.59l7.72-7.72 1.47 1.35L5.41 20z\"/>\n",
              "  </svg>\n",
              "      </button>\n",
              "      \n",
              "  <style>\n",
              "    .colab-df-container {\n",
              "      display:flex;\n",
              "      flex-wrap:wrap;\n",
              "      gap: 12px;\n",
              "    }\n",
              "\n",
              "    .colab-df-convert {\n",
              "      background-color: #E8F0FE;\n",
              "      border: none;\n",
              "      border-radius: 50%;\n",
              "      cursor: pointer;\n",
              "      display: none;\n",
              "      fill: #1967D2;\n",
              "      height: 32px;\n",
              "      padding: 0 0 0 0;\n",
              "      width: 32px;\n",
              "    }\n",
              "\n",
              "    .colab-df-convert:hover {\n",
              "      background-color: #E2EBFA;\n",
              "      box-shadow: 0px 1px 2px rgba(60, 64, 67, 0.3), 0px 1px 3px 1px rgba(60, 64, 67, 0.15);\n",
              "      fill: #174EA6;\n",
              "    }\n",
              "\n",
              "    [theme=dark] .colab-df-convert {\n",
              "      background-color: #3B4455;\n",
              "      fill: #D2E3FC;\n",
              "    }\n",
              "\n",
              "    [theme=dark] .colab-df-convert:hover {\n",
              "      background-color: #434B5C;\n",
              "      box-shadow: 0px 1px 3px 1px rgba(0, 0, 0, 0.15);\n",
              "      filter: drop-shadow(0px 1px 2px rgba(0, 0, 0, 0.3));\n",
              "      fill: #FFFFFF;\n",
              "    }\n",
              "  </style>\n",
              "\n",
              "      <script>\n",
              "        const buttonEl =\n",
              "          document.querySelector('#df-037ddeb7-e41e-4c1b-8b08-8c8799ff1d05 button.colab-df-convert');\n",
              "        buttonEl.style.display =\n",
              "          google.colab.kernel.accessAllowed ? 'block' : 'none';\n",
              "\n",
              "        async function convertToInteractive(key) {\n",
              "          const element = document.querySelector('#df-037ddeb7-e41e-4c1b-8b08-8c8799ff1d05');\n",
              "          const dataTable =\n",
              "            await google.colab.kernel.invokeFunction('convertToInteractive',\n",
              "                                                     [key], {});\n",
              "          if (!dataTable) return;\n",
              "\n",
              "          const docLinkHtml = 'Like what you see? Visit the ' +\n",
              "            '<a target=\"_blank\" href=https://colab.research.google.com/notebooks/data_table.ipynb>data table notebook</a>'\n",
              "            + ' to learn more about interactive tables.';\n",
              "          element.innerHTML = '';\n",
              "          dataTable['output_type'] = 'display_data';\n",
              "          await google.colab.output.renderOutput(dataTable, element);\n",
              "          const docLink = document.createElement('div');\n",
              "          docLink.innerHTML = docLinkHtml;\n",
              "          element.appendChild(docLink);\n",
              "        }\n",
              "      </script>\n",
              "    </div>\n",
              "  </div>\n",
              "  "
            ]
          },
          "metadata": {},
          "execution_count": 7
        }
      ]
    },
    {
      "cell_type": "code",
      "source": [
        "DF = df_rubber.set_index('date')"
      ],
      "metadata": {
        "id": "jGCzivnbOl2-"
      },
      "execution_count": null,
      "outputs": []
    },
    {
      "cell_type": "code",
      "source": [
        "DFF = DF.rename(columns={'us': 'Close'})"
      ],
      "metadata": {
        "id": "HcH7ye3haubs"
      },
      "execution_count": null,
      "outputs": []
    },
    {
      "cell_type": "code",
      "source": [
        "DFF.index = pd.to_datetime(DFF.index)"
      ],
      "metadata": {
        "id": "q3HbLnVVg789"
      },
      "execution_count": null,
      "outputs": []
    },
    {
      "cell_type": "code",
      "source": [
        "DFF = DFF.astype({'Close': np.float})"
      ],
      "metadata": {
        "colab": {
          "base_uri": "https://localhost:8080/"
        },
        "id": "BQpBRiRsk6zI",
        "outputId": "af2e1753-387d-47cc-c9ec-72ef0ff28e9d"
      },
      "execution_count": null,
      "outputs": [
        {
          "output_type": "stream",
          "name": "stderr",
          "text": [
            "/usr/local/lib/python3.7/dist-packages/ipykernel_launcher.py:1: DeprecationWarning: `np.float` is a deprecated alias for the builtin `float`. To silence this warning, use `float` by itself. Doing this will not modify any behavior and is safe. If you specifically wanted the numpy scalar type, use `np.float64` here.\n",
            "Deprecated in NumPy 1.20; for more details and guidance: https://numpy.org/devdocs/release/1.20.0-notes.html#deprecations\n",
            "  \"\"\"Entry point for launching an IPython kernel.\n"
          ]
        }
      ]
    },
    {
      "cell_type": "code",
      "source": [
        "df_rubber_m = DFF.Close.resample('M').mean()"
      ],
      "metadata": {
        "id": "E_gr1zh-iSF_"
      },
      "execution_count": null,
      "outputs": []
    },
    {
      "cell_type": "code",
      "source": [
        "# Тикеры\n",
        "# курс евро к доллару 'EURUSD=X'\n",
        "# курс евро к рублю 'EURRUB=X'\n",
        "# курс доллара к рублю 'USDRUB=X'"
      ],
      "metadata": {
        "id": "83jbX2h2H23E"
      },
      "execution_count": null,
      "outputs": []
    },
    {
      "cell_type": "code",
      "source": [
        "# котировки цен\n",
        "exr_eurusd = yf.download( 'EURUSD=X')\n",
        "exr_usdrub = yf.download('USDRUB=X')\n",
        "exr_eurrub = yf.download('EURRUB=X')"
      ],
      "metadata": {
        "colab": {
          "base_uri": "https://localhost:8080/"
        },
        "id": "lLdX4H9WYnRs",
        "outputId": "085314f9-5477-4484-bd7f-c9dddffe1b27"
      },
      "execution_count": null,
      "outputs": [
        {
          "output_type": "stream",
          "name": "stdout",
          "text": [
            "[*********************100%***********************]  1 of 1 completed\n",
            "[*********************100%***********************]  1 of 1 completed\n",
            "[*********************100%***********************]  1 of 1 completed\n"
          ]
        }
      ]
    },
    {
      "cell_type": "code",
      "source": [
        "df_dict = {}\n",
        "for ticker in tqdm(['USDRUB=X', 'EURUSD=X', 'EURRUB=X']):\n",
        "    df = yf.download(ticker)\n",
        "    df = df.Close.copy()\n",
        "    df = df.resample('M').mean()\n",
        "    df_dict[ticker] = df"
      ],
      "metadata": {
        "colab": {
          "base_uri": "https://localhost:8080/",
          "height": 101,
          "referenced_widgets": [
            "f9faca38a5a9463fa84ff2fa7020449a",
            "30640089613341b29ffa63f1ebe838b5",
            "2f700f608fd1414889fa68e409fe2b04",
            "8f781f4dda494717b7d14894d1d44758",
            "16ab4ab98508486cb5f2c2d864968f07",
            "863051e4f0a14a31a1349a13fec330f9",
            "b6c3663dee4f4678914632b0a32b9ab0",
            "7a76ca19fe79463ab2704734e5e68039",
            "67fe43e11aaa48edb58fa456621b192d",
            "695468940f7a4cc493c0db54d68afa45",
            "d31a843d35a64934bf0e2edb0ec9d2c8"
          ]
        },
        "id": "hjP6YG79bbiE",
        "outputId": "0b6db7df-89c7-401f-913c-1699e60275df"
      },
      "execution_count": null,
      "outputs": [
        {
          "output_type": "display_data",
          "data": {
            "text/plain": [
              "  0%|          | 0/3 [00:00<?, ?it/s]"
            ],
            "application/vnd.jupyter.widget-view+json": {
              "version_major": 2,
              "version_minor": 0,
              "model_id": "f9faca38a5a9463fa84ff2fa7020449a"
            }
          },
          "metadata": {}
        },
        {
          "output_type": "stream",
          "name": "stdout",
          "text": [
            "[*********************100%***********************]  1 of 1 completed\n",
            "[*********************100%***********************]  1 of 1 completed\n",
            "[*********************100%***********************]  1 of 1 completed\n"
          ]
        }
      ]
    },
    {
      "cell_type": "code",
      "source": [
        "main_df = pd.concat(df_dict.values(), axis=1)\n",
        "main_df = pd.concat([df_rubber_m, main_df], axis=1)\n",
        "main_df.columns = ['CRUDE_RUBBER_USD','USDRUB', 'EURUSD', 'EURRUB']\n",
        "main_df = main_df.loc['2019-06-30':'2022-06-30'].copy()"
      ],
      "metadata": {
        "id": "KK1Ry9kXnl7I"
      },
      "execution_count": null,
      "outputs": []
    },
    {
      "cell_type": "code",
      "source": [
        "main_df"
      ],
      "metadata": {
        "colab": {
          "base_uri": "https://localhost:8080/",
          "height": 423
        },
        "id": "iIWyYUQ6nuIQ",
        "outputId": "92ecc421-41da-4294-b2a8-af9716d1df79"
      },
      "execution_count": null,
      "outputs": [
        {
          "output_type": "execute_result",
          "data": {
            "text/plain": [
              "            CRUDE_RUBBER_USD      USDRUB    EURUSD      EURRUB\n",
              "2019-06-30        224.053175   64.168690  1.129002   72.458005\n",
              "2019-07-31        207.373701   63.176222  1.122682   70.956822\n",
              "2019-08-31        190.399660   65.687992  1.113163   73.143709\n",
              "2019-09-30        191.488492   64.971148  1.101377   71.589861\n",
              "2019-10-31        186.057468   64.341009  1.104839   71.093322\n",
              "...                      ...         ...       ...         ...\n",
              "2022-02-28        274.737302   77.466339  1.133995   87.878880\n",
              "2022-03-31        278.389752  111.013403  1.102412  132.952291\n",
              "2022-04-30        270.460150   80.666187  1.082745   86.109895\n",
              "2022-05-31        264.685317   65.422944  1.057322   68.104363\n",
              "2022-06-30        255.559864   60.146091  1.057670   60.378959\n",
              "\n",
              "[37 rows x 4 columns]"
            ],
            "text/html": [
              "\n",
              "  <div id=\"df-54d61e7e-20a6-4dca-a956-91a77efe5f59\">\n",
              "    <div class=\"colab-df-container\">\n",
              "      <div>\n",
              "<style scoped>\n",
              "    .dataframe tbody tr th:only-of-type {\n",
              "        vertical-align: middle;\n",
              "    }\n",
              "\n",
              "    .dataframe tbody tr th {\n",
              "        vertical-align: top;\n",
              "    }\n",
              "\n",
              "    .dataframe thead th {\n",
              "        text-align: right;\n",
              "    }\n",
              "</style>\n",
              "<table border=\"1\" class=\"dataframe\">\n",
              "  <thead>\n",
              "    <tr style=\"text-align: right;\">\n",
              "      <th></th>\n",
              "      <th>CRUDE_RUBBER_USD</th>\n",
              "      <th>USDRUB</th>\n",
              "      <th>EURUSD</th>\n",
              "      <th>EURRUB</th>\n",
              "    </tr>\n",
              "  </thead>\n",
              "  <tbody>\n",
              "    <tr>\n",
              "      <th>2019-06-30</th>\n",
              "      <td>224.053175</td>\n",
              "      <td>64.168690</td>\n",
              "      <td>1.129002</td>\n",
              "      <td>72.458005</td>\n",
              "    </tr>\n",
              "    <tr>\n",
              "      <th>2019-07-31</th>\n",
              "      <td>207.373701</td>\n",
              "      <td>63.176222</td>\n",
              "      <td>1.122682</td>\n",
              "      <td>70.956822</td>\n",
              "    </tr>\n",
              "    <tr>\n",
              "      <th>2019-08-31</th>\n",
              "      <td>190.399660</td>\n",
              "      <td>65.687992</td>\n",
              "      <td>1.113163</td>\n",
              "      <td>73.143709</td>\n",
              "    </tr>\n",
              "    <tr>\n",
              "      <th>2019-09-30</th>\n",
              "      <td>191.488492</td>\n",
              "      <td>64.971148</td>\n",
              "      <td>1.101377</td>\n",
              "      <td>71.589861</td>\n",
              "    </tr>\n",
              "    <tr>\n",
              "      <th>2019-10-31</th>\n",
              "      <td>186.057468</td>\n",
              "      <td>64.341009</td>\n",
              "      <td>1.104839</td>\n",
              "      <td>71.093322</td>\n",
              "    </tr>\n",
              "    <tr>\n",
              "      <th>...</th>\n",
              "      <td>...</td>\n",
              "      <td>...</td>\n",
              "      <td>...</td>\n",
              "      <td>...</td>\n",
              "    </tr>\n",
              "    <tr>\n",
              "      <th>2022-02-28</th>\n",
              "      <td>274.737302</td>\n",
              "      <td>77.466339</td>\n",
              "      <td>1.133995</td>\n",
              "      <td>87.878880</td>\n",
              "    </tr>\n",
              "    <tr>\n",
              "      <th>2022-03-31</th>\n",
              "      <td>278.389752</td>\n",
              "      <td>111.013403</td>\n",
              "      <td>1.102412</td>\n",
              "      <td>132.952291</td>\n",
              "    </tr>\n",
              "    <tr>\n",
              "      <th>2022-04-30</th>\n",
              "      <td>270.460150</td>\n",
              "      <td>80.666187</td>\n",
              "      <td>1.082745</td>\n",
              "      <td>86.109895</td>\n",
              "    </tr>\n",
              "    <tr>\n",
              "      <th>2022-05-31</th>\n",
              "      <td>264.685317</td>\n",
              "      <td>65.422944</td>\n",
              "      <td>1.057322</td>\n",
              "      <td>68.104363</td>\n",
              "    </tr>\n",
              "    <tr>\n",
              "      <th>2022-06-30</th>\n",
              "      <td>255.559864</td>\n",
              "      <td>60.146091</td>\n",
              "      <td>1.057670</td>\n",
              "      <td>60.378959</td>\n",
              "    </tr>\n",
              "  </tbody>\n",
              "</table>\n",
              "<p>37 rows × 4 columns</p>\n",
              "</div>\n",
              "      <button class=\"colab-df-convert\" onclick=\"convertToInteractive('df-54d61e7e-20a6-4dca-a956-91a77efe5f59')\"\n",
              "              title=\"Convert this dataframe to an interactive table.\"\n",
              "              style=\"display:none;\">\n",
              "        \n",
              "  <svg xmlns=\"http://www.w3.org/2000/svg\" height=\"24px\"viewBox=\"0 0 24 24\"\n",
              "       width=\"24px\">\n",
              "    <path d=\"M0 0h24v24H0V0z\" fill=\"none\"/>\n",
              "    <path d=\"M18.56 5.44l.94 2.06.94-2.06 2.06-.94-2.06-.94-.94-2.06-.94 2.06-2.06.94zm-11 1L8.5 8.5l.94-2.06 2.06-.94-2.06-.94L8.5 2.5l-.94 2.06-2.06.94zm10 10l.94 2.06.94-2.06 2.06-.94-2.06-.94-.94-2.06-.94 2.06-2.06.94z\"/><path d=\"M17.41 7.96l-1.37-1.37c-.4-.4-.92-.59-1.43-.59-.52 0-1.04.2-1.43.59L10.3 9.45l-7.72 7.72c-.78.78-.78 2.05 0 2.83L4 21.41c.39.39.9.59 1.41.59.51 0 1.02-.2 1.41-.59l7.78-7.78 2.81-2.81c.8-.78.8-2.07 0-2.86zM5.41 20L4 18.59l7.72-7.72 1.47 1.35L5.41 20z\"/>\n",
              "  </svg>\n",
              "      </button>\n",
              "      \n",
              "  <style>\n",
              "    .colab-df-container {\n",
              "      display:flex;\n",
              "      flex-wrap:wrap;\n",
              "      gap: 12px;\n",
              "    }\n",
              "\n",
              "    .colab-df-convert {\n",
              "      background-color: #E8F0FE;\n",
              "      border: none;\n",
              "      border-radius: 50%;\n",
              "      cursor: pointer;\n",
              "      display: none;\n",
              "      fill: #1967D2;\n",
              "      height: 32px;\n",
              "      padding: 0 0 0 0;\n",
              "      width: 32px;\n",
              "    }\n",
              "\n",
              "    .colab-df-convert:hover {\n",
              "      background-color: #E2EBFA;\n",
              "      box-shadow: 0px 1px 2px rgba(60, 64, 67, 0.3), 0px 1px 3px 1px rgba(60, 64, 67, 0.15);\n",
              "      fill: #174EA6;\n",
              "    }\n",
              "\n",
              "    [theme=dark] .colab-df-convert {\n",
              "      background-color: #3B4455;\n",
              "      fill: #D2E3FC;\n",
              "    }\n",
              "\n",
              "    [theme=dark] .colab-df-convert:hover {\n",
              "      background-color: #434B5C;\n",
              "      box-shadow: 0px 1px 3px 1px rgba(0, 0, 0, 0.15);\n",
              "      filter: drop-shadow(0px 1px 2px rgba(0, 0, 0, 0.3));\n",
              "      fill: #FFFFFF;\n",
              "    }\n",
              "  </style>\n",
              "\n",
              "      <script>\n",
              "        const buttonEl =\n",
              "          document.querySelector('#df-54d61e7e-20a6-4dca-a956-91a77efe5f59 button.colab-df-convert');\n",
              "        buttonEl.style.display =\n",
              "          google.colab.kernel.accessAllowed ? 'block' : 'none';\n",
              "\n",
              "        async function convertToInteractive(key) {\n",
              "          const element = document.querySelector('#df-54d61e7e-20a6-4dca-a956-91a77efe5f59');\n",
              "          const dataTable =\n",
              "            await google.colab.kernel.invokeFunction('convertToInteractive',\n",
              "                                                     [key], {});\n",
              "          if (!dataTable) return;\n",
              "\n",
              "          const docLinkHtml = 'Like what you see? Visit the ' +\n",
              "            '<a target=\"_blank\" href=https://colab.research.google.com/notebooks/data_table.ipynb>data table notebook</a>'\n",
              "            + ' to learn more about interactive tables.';\n",
              "          element.innerHTML = '';\n",
              "          dataTable['output_type'] = 'display_data';\n",
              "          await google.colab.output.renderOutput(dataTable, element);\n",
              "          const docLink = document.createElement('div');\n",
              "          docLink.innerHTML = docLinkHtml;\n",
              "          element.appendChild(docLink);\n",
              "        }\n",
              "      </script>\n",
              "    </div>\n",
              "  </div>\n",
              "  "
            ]
          },
          "metadata": {},
          "execution_count": 18
        }
      ]
    },
    {
      "cell_type": "code",
      "source": [
        "main_df['MWP_PRICE_EUR'] = main_df.CRUDE_RUBBER_USD * (1/main_df.EURUSD)\n",
        "main_df['MWP_PRICE_USD'] = main_df.CRUDE_RUBBER_USD\n",
        "main_df['MWP_PRICE_RUB'] = main_df.CRUDE_RUBBER_USD * main_df.USDRUB"
      ],
      "metadata": {
        "id": "sc3vX8ROpbEK"
      },
      "execution_count": null,
      "outputs": []
    },
    {
      "cell_type": "code",
      "source": [
        "# Расходы на логистику\n",
        "EU_LOGISTIC_COST_EUR = 30 # в Европу в евро\n",
        "CN_LOGISTIC_COST_USD = 130 # в Китай в долларах"
      ],
      "metadata": {
        "id": "UdgQdaQ8pbLY"
      },
      "execution_count": null,
      "outputs": []
    },
    {
      "cell_type": "code",
      "source": [
        "main_df['MWP_PRICE_EUR_EU'] = main_df['MWP_PRICE_EUR'] + EU_LOGISTIC_COST_EUR\n",
        "main_df['MWP_PRICE_USD_CN'] = main_df['MWP_PRICE_USD'] + CN_LOGISTIC_COST_USD\n",
        "main_df['MWP_PRICE_USD_RU'] = main_df['MWP_PRICE_RUB']"
      ],
      "metadata": {
        "id": "9-ED_q_JpbPw"
      },
      "execution_count": null,
      "outputs": []
    },
    {
      "cell_type": "code",
      "source": [
        "main_df['MWP_PRICE_EUR_EU_MA'] = main_df.MWP_PRICE_EUR_EU.rolling(window=3).mean()"
      ],
      "metadata": {
        "id": "eTt1xt-upbXP"
      },
      "execution_count": null,
      "outputs": []
    },
    {
      "cell_type": "code",
      "source": [
        "main_df"
      ],
      "metadata": {
        "colab": {
          "base_uri": "https://localhost:8080/",
          "height": 467
        },
        "id": "kQC8PwoypbTI",
        "outputId": "1abec6fc-c1e8-4961-bb4a-ce1cb812fb1e"
      },
      "execution_count": null,
      "outputs": [
        {
          "output_type": "execute_result",
          "data": {
            "text/plain": [
              "            CRUDE_RUBBER_USD      USDRUB    EURUSD      EURRUB  MWP_PRICE_EUR  \\\n",
              "2019-06-30        224.053175   64.168690  1.129002   72.458005     198.452423   \n",
              "2019-07-31        207.373701   63.176222  1.122682   70.956822     184.712827   \n",
              "2019-08-31        190.399660   65.687992  1.113163   73.143709     171.043794   \n",
              "2019-09-30        191.488492   64.971148  1.101377   71.589861     173.862806   \n",
              "2019-10-31        186.057468   64.341009  1.104839   71.093322     168.402286   \n",
              "...                      ...         ...       ...         ...            ...   \n",
              "2022-02-28        274.737302   77.466339  1.133995   87.878880     242.273716   \n",
              "2022-03-31        278.389752  111.013403  1.102412  132.952291     252.527753   \n",
              "2022-04-30        270.460150   80.666187  1.082745   86.109895     249.791294   \n",
              "2022-05-31        264.685317   65.422944  1.057322   68.104363     250.335487   \n",
              "2022-06-30        255.559864   60.146091  1.057670   60.378959     241.625434   \n",
              "\n",
              "            MWP_PRICE_USD  MWP_PRICE_RUB  MWP_PRICE_EUR_EU  MWP_PRICE_USD_CN  \\\n",
              "2019-06-30     224.053175   14377.198601        228.452423        354.053175   \n",
              "2019-07-31     207.373701   13101.086907        214.712827        337.373701   \n",
              "2019-08-31     190.399660   12506.971253        201.043794        320.399660   \n",
              "2019-09-30     191.488492   12441.227087        203.862806        321.488492   \n",
              "2019-10-31     186.057468   11971.125235        198.402286        316.057468   \n",
              "...                   ...            ...               ...               ...   \n",
              "2022-02-28     274.737302   21282.892971        272.273716        404.737302   \n",
              "2022-03-31     278.389752   30904.993548        282.527753        408.389752   \n",
              "2022-04-30     270.460150   21816.989095        279.791294        400.460150   \n",
              "2022-05-31     264.685317   17316.492605        280.335487        394.685317   \n",
              "2022-06-30     255.559864   15370.926906        271.625434        385.559864   \n",
              "\n",
              "            MWP_PRICE_USD_RU  MWP_PRICE_EUR_EU_MA  \n",
              "2019-06-30      14377.198601                  NaN  \n",
              "2019-07-31      13101.086907                  NaN  \n",
              "2019-08-31      12506.971253           214.736348  \n",
              "2019-09-30      12441.227087           206.539809  \n",
              "2019-10-31      11971.125235           201.102962  \n",
              "...                      ...                  ...  \n",
              "2022-02-28      21282.892971           255.281824  \n",
              "2022-03-31      30904.993548           268.938530  \n",
              "2022-04-30      21816.989095           278.197588  \n",
              "2022-05-31      17316.492605           280.884845  \n",
              "2022-06-30      15370.926906           277.250738  \n",
              "\n",
              "[37 rows x 11 columns]"
            ],
            "text/html": [
              "\n",
              "  <div id=\"df-32659461-2670-43d5-8e2f-574fa3a8b790\">\n",
              "    <div class=\"colab-df-container\">\n",
              "      <div>\n",
              "<style scoped>\n",
              "    .dataframe tbody tr th:only-of-type {\n",
              "        vertical-align: middle;\n",
              "    }\n",
              "\n",
              "    .dataframe tbody tr th {\n",
              "        vertical-align: top;\n",
              "    }\n",
              "\n",
              "    .dataframe thead th {\n",
              "        text-align: right;\n",
              "    }\n",
              "</style>\n",
              "<table border=\"1\" class=\"dataframe\">\n",
              "  <thead>\n",
              "    <tr style=\"text-align: right;\">\n",
              "      <th></th>\n",
              "      <th>CRUDE_RUBBER_USD</th>\n",
              "      <th>USDRUB</th>\n",
              "      <th>EURUSD</th>\n",
              "      <th>EURRUB</th>\n",
              "      <th>MWP_PRICE_EUR</th>\n",
              "      <th>MWP_PRICE_USD</th>\n",
              "      <th>MWP_PRICE_RUB</th>\n",
              "      <th>MWP_PRICE_EUR_EU</th>\n",
              "      <th>MWP_PRICE_USD_CN</th>\n",
              "      <th>MWP_PRICE_USD_RU</th>\n",
              "      <th>MWP_PRICE_EUR_EU_MA</th>\n",
              "    </tr>\n",
              "  </thead>\n",
              "  <tbody>\n",
              "    <tr>\n",
              "      <th>2019-06-30</th>\n",
              "      <td>224.053175</td>\n",
              "      <td>64.168690</td>\n",
              "      <td>1.129002</td>\n",
              "      <td>72.458005</td>\n",
              "      <td>198.452423</td>\n",
              "      <td>224.053175</td>\n",
              "      <td>14377.198601</td>\n",
              "      <td>228.452423</td>\n",
              "      <td>354.053175</td>\n",
              "      <td>14377.198601</td>\n",
              "      <td>NaN</td>\n",
              "    </tr>\n",
              "    <tr>\n",
              "      <th>2019-07-31</th>\n",
              "      <td>207.373701</td>\n",
              "      <td>63.176222</td>\n",
              "      <td>1.122682</td>\n",
              "      <td>70.956822</td>\n",
              "      <td>184.712827</td>\n",
              "      <td>207.373701</td>\n",
              "      <td>13101.086907</td>\n",
              "      <td>214.712827</td>\n",
              "      <td>337.373701</td>\n",
              "      <td>13101.086907</td>\n",
              "      <td>NaN</td>\n",
              "    </tr>\n",
              "    <tr>\n",
              "      <th>2019-08-31</th>\n",
              "      <td>190.399660</td>\n",
              "      <td>65.687992</td>\n",
              "      <td>1.113163</td>\n",
              "      <td>73.143709</td>\n",
              "      <td>171.043794</td>\n",
              "      <td>190.399660</td>\n",
              "      <td>12506.971253</td>\n",
              "      <td>201.043794</td>\n",
              "      <td>320.399660</td>\n",
              "      <td>12506.971253</td>\n",
              "      <td>214.736348</td>\n",
              "    </tr>\n",
              "    <tr>\n",
              "      <th>2019-09-30</th>\n",
              "      <td>191.488492</td>\n",
              "      <td>64.971148</td>\n",
              "      <td>1.101377</td>\n",
              "      <td>71.589861</td>\n",
              "      <td>173.862806</td>\n",
              "      <td>191.488492</td>\n",
              "      <td>12441.227087</td>\n",
              "      <td>203.862806</td>\n",
              "      <td>321.488492</td>\n",
              "      <td>12441.227087</td>\n",
              "      <td>206.539809</td>\n",
              "    </tr>\n",
              "    <tr>\n",
              "      <th>2019-10-31</th>\n",
              "      <td>186.057468</td>\n",
              "      <td>64.341009</td>\n",
              "      <td>1.104839</td>\n",
              "      <td>71.093322</td>\n",
              "      <td>168.402286</td>\n",
              "      <td>186.057468</td>\n",
              "      <td>11971.125235</td>\n",
              "      <td>198.402286</td>\n",
              "      <td>316.057468</td>\n",
              "      <td>11971.125235</td>\n",
              "      <td>201.102962</td>\n",
              "    </tr>\n",
              "    <tr>\n",
              "      <th>...</th>\n",
              "      <td>...</td>\n",
              "      <td>...</td>\n",
              "      <td>...</td>\n",
              "      <td>...</td>\n",
              "      <td>...</td>\n",
              "      <td>...</td>\n",
              "      <td>...</td>\n",
              "      <td>...</td>\n",
              "      <td>...</td>\n",
              "      <td>...</td>\n",
              "      <td>...</td>\n",
              "    </tr>\n",
              "    <tr>\n",
              "      <th>2022-02-28</th>\n",
              "      <td>274.737302</td>\n",
              "      <td>77.466339</td>\n",
              "      <td>1.133995</td>\n",
              "      <td>87.878880</td>\n",
              "      <td>242.273716</td>\n",
              "      <td>274.737302</td>\n",
              "      <td>21282.892971</td>\n",
              "      <td>272.273716</td>\n",
              "      <td>404.737302</td>\n",
              "      <td>21282.892971</td>\n",
              "      <td>255.281824</td>\n",
              "    </tr>\n",
              "    <tr>\n",
              "      <th>2022-03-31</th>\n",
              "      <td>278.389752</td>\n",
              "      <td>111.013403</td>\n",
              "      <td>1.102412</td>\n",
              "      <td>132.952291</td>\n",
              "      <td>252.527753</td>\n",
              "      <td>278.389752</td>\n",
              "      <td>30904.993548</td>\n",
              "      <td>282.527753</td>\n",
              "      <td>408.389752</td>\n",
              "      <td>30904.993548</td>\n",
              "      <td>268.938530</td>\n",
              "    </tr>\n",
              "    <tr>\n",
              "      <th>2022-04-30</th>\n",
              "      <td>270.460150</td>\n",
              "      <td>80.666187</td>\n",
              "      <td>1.082745</td>\n",
              "      <td>86.109895</td>\n",
              "      <td>249.791294</td>\n",
              "      <td>270.460150</td>\n",
              "      <td>21816.989095</td>\n",
              "      <td>279.791294</td>\n",
              "      <td>400.460150</td>\n",
              "      <td>21816.989095</td>\n",
              "      <td>278.197588</td>\n",
              "    </tr>\n",
              "    <tr>\n",
              "      <th>2022-05-31</th>\n",
              "      <td>264.685317</td>\n",
              "      <td>65.422944</td>\n",
              "      <td>1.057322</td>\n",
              "      <td>68.104363</td>\n",
              "      <td>250.335487</td>\n",
              "      <td>264.685317</td>\n",
              "      <td>17316.492605</td>\n",
              "      <td>280.335487</td>\n",
              "      <td>394.685317</td>\n",
              "      <td>17316.492605</td>\n",
              "      <td>280.884845</td>\n",
              "    </tr>\n",
              "    <tr>\n",
              "      <th>2022-06-30</th>\n",
              "      <td>255.559864</td>\n",
              "      <td>60.146091</td>\n",
              "      <td>1.057670</td>\n",
              "      <td>60.378959</td>\n",
              "      <td>241.625434</td>\n",
              "      <td>255.559864</td>\n",
              "      <td>15370.926906</td>\n",
              "      <td>271.625434</td>\n",
              "      <td>385.559864</td>\n",
              "      <td>15370.926906</td>\n",
              "      <td>277.250738</td>\n",
              "    </tr>\n",
              "  </tbody>\n",
              "</table>\n",
              "<p>37 rows × 11 columns</p>\n",
              "</div>\n",
              "      <button class=\"colab-df-convert\" onclick=\"convertToInteractive('df-32659461-2670-43d5-8e2f-574fa3a8b790')\"\n",
              "              title=\"Convert this dataframe to an interactive table.\"\n",
              "              style=\"display:none;\">\n",
              "        \n",
              "  <svg xmlns=\"http://www.w3.org/2000/svg\" height=\"24px\"viewBox=\"0 0 24 24\"\n",
              "       width=\"24px\">\n",
              "    <path d=\"M0 0h24v24H0V0z\" fill=\"none\"/>\n",
              "    <path d=\"M18.56 5.44l.94 2.06.94-2.06 2.06-.94-2.06-.94-.94-2.06-.94 2.06-2.06.94zm-11 1L8.5 8.5l.94-2.06 2.06-.94-2.06-.94L8.5 2.5l-.94 2.06-2.06.94zm10 10l.94 2.06.94-2.06 2.06-.94-2.06-.94-.94-2.06-.94 2.06-2.06.94z\"/><path d=\"M17.41 7.96l-1.37-1.37c-.4-.4-.92-.59-1.43-.59-.52 0-1.04.2-1.43.59L10.3 9.45l-7.72 7.72c-.78.78-.78 2.05 0 2.83L4 21.41c.39.39.9.59 1.41.59.51 0 1.02-.2 1.41-.59l7.78-7.78 2.81-2.81c.8-.78.8-2.07 0-2.86zM5.41 20L4 18.59l7.72-7.72 1.47 1.35L5.41 20z\"/>\n",
              "  </svg>\n",
              "      </button>\n",
              "      \n",
              "  <style>\n",
              "    .colab-df-container {\n",
              "      display:flex;\n",
              "      flex-wrap:wrap;\n",
              "      gap: 12px;\n",
              "    }\n",
              "\n",
              "    .colab-df-convert {\n",
              "      background-color: #E8F0FE;\n",
              "      border: none;\n",
              "      border-radius: 50%;\n",
              "      cursor: pointer;\n",
              "      display: none;\n",
              "      fill: #1967D2;\n",
              "      height: 32px;\n",
              "      padding: 0 0 0 0;\n",
              "      width: 32px;\n",
              "    }\n",
              "\n",
              "    .colab-df-convert:hover {\n",
              "      background-color: #E2EBFA;\n",
              "      box-shadow: 0px 1px 2px rgba(60, 64, 67, 0.3), 0px 1px 3px 1px rgba(60, 64, 67, 0.15);\n",
              "      fill: #174EA6;\n",
              "    }\n",
              "\n",
              "    [theme=dark] .colab-df-convert {\n",
              "      background-color: #3B4455;\n",
              "      fill: #D2E3FC;\n",
              "    }\n",
              "\n",
              "    [theme=dark] .colab-df-convert:hover {\n",
              "      background-color: #434B5C;\n",
              "      box-shadow: 0px 1px 3px 1px rgba(0, 0, 0, 0.15);\n",
              "      filter: drop-shadow(0px 1px 2px rgba(0, 0, 0, 0.3));\n",
              "      fill: #FFFFFF;\n",
              "    }\n",
              "  </style>\n",
              "\n",
              "      <script>\n",
              "        const buttonEl =\n",
              "          document.querySelector('#df-32659461-2670-43d5-8e2f-574fa3a8b790 button.colab-df-convert');\n",
              "        buttonEl.style.display =\n",
              "          google.colab.kernel.accessAllowed ? 'block' : 'none';\n",
              "\n",
              "        async function convertToInteractive(key) {\n",
              "          const element = document.querySelector('#df-32659461-2670-43d5-8e2f-574fa3a8b790');\n",
              "          const dataTable =\n",
              "            await google.colab.kernel.invokeFunction('convertToInteractive',\n",
              "                                                     [key], {});\n",
              "          if (!dataTable) return;\n",
              "\n",
              "          const docLinkHtml = 'Like what you see? Visit the ' +\n",
              "            '<a target=\"_blank\" href=https://colab.research.google.com/notebooks/data_table.ipynb>data table notebook</a>'\n",
              "            + ' to learn more about interactive tables.';\n",
              "          element.innerHTML = '';\n",
              "          dataTable['output_type'] = 'display_data';\n",
              "          await google.colab.output.renderOutput(dataTable, element);\n",
              "          const docLink = document.createElement('div');\n",
              "          docLink.innerHTML = docLinkHtml;\n",
              "          element.appendChild(docLink);\n",
              "        }\n",
              "      </script>\n",
              "    </div>\n",
              "  </div>\n",
              "  "
            ]
          },
          "metadata": {},
          "execution_count": 56
        }
      ]
    },
    {
      "cell_type": "code",
      "source": [
        "from pylab import rcParams\n",
        "rcParams['figure.figsize'] = 10,5\n",
        "# График с базовой ценой(на заводе) в евро\n",
        "plt.title('Цена ВБП(FCA), евро', fontsize=16, fontweight='bold')\n",
        "plt.plot(main_df['MWP_PRICE_EUR_EU_MA'], label='MWP_PRICE_EUR_EU_MA')\n",
        "plt.plot(main_df['MWP_PRICE_EUR'], label='MWP_PRICE_EUR')\n",
        "plt.legend()\n",
        "plt.show()"
      ],
      "metadata": {
        "colab": {
          "base_uri": "https://localhost:8080/",
          "height": 340
        },
        "id": "rhv-ThY7pbaa",
        "outputId": "b30798bb-b596-4075-dc00-921b3d85565c"
      },
      "execution_count": null,
      "outputs": [
        {
          "output_type": "display_data",
          "data": {
            "text/plain": [
              "<Figure size 720x360 with 1 Axes>"
            ],
            "image/png": "[encoded data removed]"
          },
          "metadata": {}
        }
      ]
    },
    {
      "cell_type": "code",
      "source": [
        "customers"
      ],
      "metadata": {
        "colab": {
          "base_uri": "https://localhost:8080/"
        },
        "id": "ZN55dU3_pbd7",
        "outputId": "b18163c7-7d81-4669-b665-4ac6f801cd10"
      },
      "execution_count": null,
      "outputs": [
        {
          "output_type": "execute_result",
          "data": {
            "text/plain": [
              "{'Monty': {'comment': 'moving_average', 'location': 'EU', 'volumes': 200},\n",
              " 'Poly': {'comment': 'monthly', 'location': 'EU', 'volumes': 70},\n",
              " 'Stone': {'comment': 'moving_average', 'location': 'EU', 'volumes': 150},\n",
              " 'Triangle': {'comment': 'monthly', 'location': 'CN', 'volumes': 30}}"
            ]
          },
          "metadata": {},
          "execution_count": 31
        }
      ]
    },
    {
      "cell_type": "code",
      "source": [
        "discounts"
      ],
      "metadata": {
        "colab": {
          "base_uri": "https://localhost:8080/"
        },
        "id": "ZkZwjEOXqtMy",
        "outputId": "bc60ec3c-fb07-469c-edcd-2f4eae43782e"
      },
      "execution_count": null,
      "outputs": [
        {
          "output_type": "execute_result",
          "data": {
            "text/plain": [
              "{100: 0.01, 300: 0.05, 301: 0.1}"
            ]
          },
          "metadata": {},
          "execution_count": 32
        }
      ]
    },
    {
      "cell_type": "code",
      "source": [
        "discounts = {100: 0.01, 300: 0.05, 301: 0.1}"
      ],
      "metadata": {
        "id": "c42ilxA2qtPZ"
      },
      "execution_count": null,
      "outputs": []
    },
    {
      "cell_type": "code",
      "source": [
        "with pd.ExcelWriter('price_proposals.xlsx', engine = 'xlsxwriter') as writer:\n",
        "    for client, v in customers.items():\n",
        "\n",
        "        disc = 0.0\n",
        "        if v.get('location') == \"EU\":\n",
        "            fl = 0\n",
        "            for k_lim, discount_share in discounts.items():\n",
        "                if v.get('volumes') > k_lim:\n",
        "                    continue\n",
        "                else:\n",
        "                    disc = discount_share\n",
        "                    fl = 1\n",
        "                    break\n",
        "            if fl == 0 :\n",
        "                disc = discounts.get(max(discounts.keys()))\n",
        "\n",
        "            if v.get('comment') == 'monthly':\n",
        "                client_price = main_df['MWP_PRICE_EUR_EU'] * (1-disc)\n",
        "            elif v.get('comment') == 'moving_average':\n",
        "                client_price = main_df['MWP_PRICE_EUR_EU_MA'] * (1-disc)\n",
        "\n",
        "        elif v.get('location') == 'CN':\n",
        "            fl = 0\n",
        "            for k_lim, discount_share in discounts.items():\n",
        "                if v.get('volumes') > k_lim:\n",
        "                    continue\n",
        "                else:\n",
        "                    disc = discount_share\n",
        "                    fl = 1\n",
        "                    break\n",
        "            if fl == 0 :\n",
        "                disc = discounts.get(max(discounts.keys()))\n",
        "\n",
        "            client_price = main_df['MWP_PRICE_USD_CN'] * (1-disc)\n",
        "\n",
        "        # print(client, v, disc)\n",
        "        client_price.to_excel(writer, sheet_name=client)\n",
        "        # Добавляем график с ценой\n",
        "        plot_path = f'{client}_wbp.png'\n",
        "        plt.title('Цена ВБП(DDP)', fontsize=16, fontweight='bold')\n",
        "        plt.plot(client_price)\n",
        "        plt.savefig(plot_path)\n",
        "        plt.show()\n",
        "        # worksheet = writer.sheets[client]\n",
        "        # worksheet.insert_image('C2',plot_path)\n",
        "\n",
        "    for k,v in customers.items():\n",
        "        worksheet = writer.sheets[k]\n",
        "        worksheet.insert_image('C2',f\"{k}_wbp.png\")\n",
        "\n",
        "for k,v in customers.items():\n",
        "    if os.path.exists(f\"{k}_wbp.png\"):\n",
        "        os.remove(f\"{k}_wbp.png\")"
      ],
      "metadata": {
        "colab": {
          "base_uri": "https://localhost:8080/",
          "height": 1000
        },
        "id": "SMnMvd_gqtTQ",
        "outputId": "b00c2c03-09ff-496c-efb8-d8d0488476a9"
      },
      "execution_count": null,
      "outputs": [
        {
          "output_type": "display_data",
          "data": {
            "text/plain": [
              "<Figure size 720x360 with 1 Axes>"
            ],
            "image/png": "[encoded data removed]"
          },
          "metadata": {}
        },
        {
          "output_type": "display_data",
          "data": {
            "text/plain": [
              "<Figure size 720x360 with 1 Axes>"
            ],
            "image/png": "[encoded data removed]"
          },
          "metadata": {}
        },
        {
          "output_type": "display_data",
          "data": {
            "text/plain": [
              "<Figure size 720x360 with 1 Axes>"
            ],
            "image/png": "[encoded data removed]"
          },
          "metadata": {}
        },
        {
          "output_type": "display_data",
          "data": {
            "text/plain": [
              "<Figure size 720x360 with 1 Axes>"
            ],
            "image/png": "[encoded data removed]"
          },
          "metadata": {}
        }
      ]
    },
    {
      "cell_type": "code",
      "source": [
        "# Создаем директорию для ценовых предложений клиентам\n",
        "price_proposals_path = 'client_wbp_price_proposals'\n",
        "if not os.path.exists(price_proposals_path):\n",
        "    os.mkdir(price_proposals_path)"
      ],
      "metadata": {
        "id": "Sft9Lb60qtWI"
      },
      "execution_count": null,
      "outputs": []
    },
    {
      "cell_type": "code",
      "source": [
        "# Создаем отдельный файл для каждого из клиентов\n",
        "for client, v in customers.items():\n",
        "    client_proposal_file_path = os.path.join(price_proposals_path, f'{client}_mwp_price_proposal.xlsx')\n",
        "    location = v.get('location')\n",
        "    disc = 0.0\n",
        "    if v.get('location') == \"EU\":\n",
        "        fl = 0\n",
        "        for k_lim, discount_share in discounts.items():\n",
        "            if v.get('volumes') > k_lim:\n",
        "                continue\n",
        "            else:\n",
        "                disc = discount_share\n",
        "                fl = 1\n",
        "                break\n",
        "        if fl == 0 :\n",
        "            disc = discounts.get(max(discounts.keys()))\n",
        "\n",
        "        if v.get('comment') == 'monthly':\n",
        "            client_price = main_df['MWP_PRICE_EUR_EU'] * (1-disc)\n",
        "        elif v.get('comment') == 'moving_average':\n",
        "            client_price = main_df['MWP_PRICE_EUR_EU_MA'] * (1-disc)\n",
        "\n",
        "    elif v.get('location') == 'CN':\n",
        "        fl = 0\n",
        "        for k_lim, discount_share in discounts.items():\n",
        "            if v.get('volumes') > k_lim:\n",
        "                continue\n",
        "            else:\n",
        "                disc = discount_share\n",
        "                fl = 1\n",
        "                break\n",
        "        if fl == 0 :\n",
        "            disc = discounts.get(max(discounts.keys()))\n",
        "\n",
        "        client_price = main_df['MWP_PRICE_USD_CN'] * (1-disc)\n",
        "    with pd.ExcelWriter(client_proposal_file_path, engine='xlsxwriter') as writer:\n",
        "        client_price.to_excel(writer, sheet_name='price_proposal')\n",
        "        # Добавляем график с ценой\n",
        "        plot_path = f'{client}_wbp.png'\n",
        "        plt.title('Цена ВБП(DDP)', fontsize=16, fontweight='bold')\n",
        "        plt.plot(client_price)\n",
        "        plt.savefig(plot_path)\n",
        "        plt.show()\n",
        "        worksheet = writer.sheets['price_proposal']\n",
        "        worksheet.insert_image('C2',plot_path)\n",
        "\n",
        "for k,v in customers.items():\n",
        "    if os.path.exists(f\"{k}_wbp.png\"):\n",
        "        os.remove(f\"{k}_wbp.png\")"
      ],
      "metadata": {
        "id": "Tl7-jmjZqtZN",
        "outputId": "d0a2729e-f41b-4204-afa6-fb4d4904b99a",
        "colab": {
          "base_uri": "https://localhost:8080/",
          "height": 1000
        }
      },
      "execution_count": null,
      "outputs": [
        {
          "output_type": "display_data",
          "data": {
            "text/plain": [
              "<Figure size 720x360 with 1 Axes>"
            ],
            "image/png": "[encoded data removed]"
          },
          "metadata": {}
        },
        {
          "output_type": "display_data",
          "data": {
            "text/plain": [
              "<Figure size 720x360 with 1 Axes>"
            ],
            "image/png": "[encoded data removed]"
          },
          "metadata": {}
        },
        {
          "output_type": "display_data",
          "data": {
            "text/plain": [
              "<Figure size 720x360 with 1 Axes>"
            ],
            "image/png": "[encoded data removed]"
          },
          "metadata": {}
        },
        {
          "output_type": "display_data",
          "data": {
            "text/plain": [
              "<Figure size 720x360 with 1 Axes>"
            ],
            "image/png": "[encoded data removed]"
          },
          "metadata": {}
        }
      ]
    },
    {
      "cell_type": "code",
      "source": [
        ""
      ],
      "metadata": {
        "id": "KSPwQWOwqthS"
      },
      "execution_count": null,
      "outputs": []
    },
    {
      "cell_type": "markdown",
      "metadata": {
        "pycharm": {
          "name": "#%% md\n"
        },
        "id": "qCO-Z1NtGxPr"
      },
      "source": [
        "# Задание 2. Продолжение"
      ]
    },
    {
      "cell_type": "markdown",
      "metadata": {
        "pycharm": {
          "name": "#%% md\n"
        },
        "id": "wFLzwnw7GxPs"
      },
      "source": [
        "Клиенты согласились на ваше предложение. \n",
        "Вам нужно сделать написать скрипт, с помощью которого можно автоматом рассчитывать цены для всех клиентов одновременно. \n",
        "Важный момент: данные для расчета скрипт должен подтягивать сам.\n",
        "\n",
        "В результате должно быть 3 файла\n",
        "1. Ноутбук с расчетами и графиками (чтобы данные подтягивались туда)\n",
        "2. Скрипт, который делает расчет цены для клиента (чтобы данные подтягивались туда сами)"
      ]
    },
    {
      "cell_type": "code",
      "execution_count": null,
      "metadata": {
        "pycharm": {
          "name": "#%%\n"
        },
        "id": "8uLC3vTBGxPu",
        "outputId": "b118abf7-f4e3-4e57-a5f7-11e1fb9ff45b",
        "colab": {
          "base_uri": "https://localhost:8080/",
          "height": 1000
        }
      },
      "outputs": [
        {
          "output_type": "display_data",
          "data": {
            "text/plain": [
              "<Figure size 720x360 with 1 Axes>"
            ],
            "image/png": "[encoded data removed]"
          },
          "metadata": {}
        },
        {
          "output_type": "display_data",
          "data": {
            "text/plain": [
              "<Figure size 720x360 with 1 Axes>"
            ],
            "image/png": "[encoded data removed]"
          },
          "metadata": {}
        },
        {
          "output_type": "display_data",
          "data": {
            "text/plain": [
              "<Figure size 720x360 with 1 Axes>"
            ],
            "image/png": "[encoded data removed]"
          },
          "metadata": {}
        },
        {
          "output_type": "display_data",
          "data": {
            "text/plain": [
              "<Figure size 720x360 with 1 Axes>"
            ],
            "image/png": "[encoded data removed]"
          },
          "metadata": {}
        }
      ],
      "source": [
        "# Создаем отдельный файл для каждого из клиентов\n",
        "for client, v in customers.items():\n",
        "    client_proposal_file_path = os.path.join(price_proposals_path, f'{client}_mwp_price_proposal.xlsx')\n",
        "    location = v.get('location')\n",
        "    disc = 0.0\n",
        "    if v.get('location') == \"EU\":\n",
        "        fl = 0\n",
        "        for k_lim, discount_share in discounts.items():\n",
        "            if v.get('volumes') > k_lim:\n",
        "                continue\n",
        "            else:\n",
        "                disc = discount_share\n",
        "                fl = 1\n",
        "                break\n",
        "        if fl == 0 :\n",
        "            disc = discounts.get(max(discounts.keys()))\n",
        "\n",
        "        if v.get('comment') == 'monthly':\n",
        "            client_price = main_df['MWP_PRICE_EUR_EU'] * (1-disc)\n",
        "        elif v.get('comment') == 'moving_average':\n",
        "            client_price = main_df['MWP_PRICE_EUR_EU_MA'] * (1-disc)\n",
        "\n",
        "    elif v.get('location') == 'CN':\n",
        "        fl = 0\n",
        "        for k_lim, discount_share in discounts.items():\n",
        "            if v.get('volumes') > k_lim:\n",
        "                continue\n",
        "            else:\n",
        "                disc = discount_share\n",
        "                fl = 1\n",
        "                break\n",
        "        if fl == 0 :\n",
        "            disc = discounts.get(max(discounts.keys()))\n",
        "\n",
        "        client_price = main_df['MWP_PRICE_USD_CN'] * (1-disc)\n",
        "    with pd.ExcelWriter(client_proposal_file_path, engine='xlsxwriter') as writer:\n",
        "        client_price.to_excel(writer, sheet_name='price_proposal')\n",
        "        # Добавляем график с ценой\n",
        "        plot_path = f'{client}_wbp.png'\n",
        "        plt.title('Цена ВБП(DDP)', fontsize=16, fontweight='bold')\n",
        "        plt.plot(client_price)\n",
        "        plt.savefig(plot_path)\n",
        "        plt.show()\n",
        "        worksheet = writer.sheets['price_proposal']\n",
        "        worksheet.insert_image('C2',plot_path)\n",
        "\n",
        "for k,v in customers.items():\n",
        "    if os.path.exists(f\"{k}_wbp.png\"):\n",
        "        os.remove(f\"{k}_wbp.png\")"
      ]
    },
    {
      "cell_type": "markdown",
      "metadata": {
        "pycharm": {
          "name": "#%% md\n"
        },
        "id": "-AS7n-pmGxPv"
      },
      "source": [
        "# Задание 3. Back to Russia\n",
        "\n",
        "К вам пришел новый клиент из России, он готов регулярно закупать синтетический каучук. Клиент готов забирать ВБП с завода самостоятельно.\n",
        "1. На основе тех данных, которые уже есть предложите цену новому клиенту. \n",
        "2. Подготовьте скрипт, который будет использовать курс публикуемый на <a href='http://www.cbr.ru/currency_base/dynamics/'> сайте ЦБ РФ</a> или из любого другого источника.\n"
      ]
    },
    {
      "cell_type": "code",
      "source": [
        "main_df"
      ],
      "metadata": {
        "colab": {
          "base_uri": "https://localhost:8080/",
          "height": 467
        },
        "id": "RRcq1dWcmePt",
        "outputId": "70a6cf1e-cd0a-4fa1-ab65-944c114f4ff8"
      },
      "execution_count": null,
      "outputs": [
        {
          "output_type": "execute_result",
          "data": {
            "text/plain": [
              "            CRUDE_RUBBER_USD      USDRUB    EURUSD      EURRUB  MWP_PRICE_EUR  \\\n",
              "2019-06-30        224.053175   64.168690  1.129002   72.458005     198.452423   \n",
              "2019-07-31        207.373701   63.176222  1.122682   70.956822     184.712827   \n",
              "2019-08-31        190.399660   65.687992  1.113163   73.143709     171.043794   \n",
              "2019-09-30        191.488492   64.971148  1.101377   71.589861     173.862806   \n",
              "2019-10-31        186.057468   64.341009  1.104839   71.093322     168.402286   \n",
              "...                      ...         ...       ...         ...            ...   \n",
              "2022-02-28        274.737302   77.466339  1.133995   87.878880     242.273716   \n",
              "2022-03-31        278.389752  111.013403  1.102412  132.952291     252.527753   \n",
              "2022-04-30        270.460150   80.666187  1.082745   86.109895     249.791294   \n",
              "2022-05-31        264.685317   65.422944  1.057322   68.104363     250.335487   \n",
              "2022-06-30        255.559864   60.146091  1.057670   60.378959     241.625434   \n",
              "\n",
              "            MWP_PRICE_USD  MWP_PRICE_RUB  MWP_PRICE_EUR_EU  MWP_PRICE_USD_CN  \\\n",
              "2019-06-30     224.053175   14377.198601        228.452423        354.053175   \n",
              "2019-07-31     207.373701   13101.086907        214.712827        337.373701   \n",
              "2019-08-31     190.399660   12506.971253        201.043794        320.399660   \n",
              "2019-09-30     191.488492   12441.227087        203.862806        321.488492   \n",
              "2019-10-31     186.057468   11971.125235        198.402286        316.057468   \n",
              "...                   ...            ...               ...               ...   \n",
              "2022-02-28     274.737302   21282.892971        272.273716        404.737302   \n",
              "2022-03-31     278.389752   30904.993548        282.527753        408.389752   \n",
              "2022-04-30     270.460150   21816.989095        279.791294        400.460150   \n",
              "2022-05-31     264.685317   17316.492605        280.335487        394.685317   \n",
              "2022-06-30     255.559864   15370.926906        271.625434        385.559864   \n",
              "\n",
              "            MWP_PRICE_USD_RU  MWP_PRICE_EUR_EU_MA  \n",
              "2019-06-30      14377.198601                  NaN  \n",
              "2019-07-31      13101.086907                  NaN  \n",
              "2019-08-31      12506.971253           214.736348  \n",
              "2019-09-30      12441.227087           206.539809  \n",
              "2019-10-31      11971.125235           201.102962  \n",
              "...                      ...                  ...  \n",
              "2022-02-28      21282.892971           255.281824  \n",
              "2022-03-31      30904.993548           268.938530  \n",
              "2022-04-30      21816.989095           278.197588  \n",
              "2022-05-31      17316.492605           280.884845  \n",
              "2022-06-30      15370.926906           277.250738  \n",
              "\n",
              "[37 rows x 11 columns]"
            ],
            "text/html": [
              "\n",
              "  <div id=\"df-568d05ec-f534-40ac-94dd-4a46883ea1b6\">\n",
              "    <div class=\"colab-df-container\">\n",
              "      <div>\n",
              "<style scoped>\n",
              "    .dataframe tbody tr th:only-of-type {\n",
              "        vertical-align: middle;\n",
              "    }\n",
              "\n",
              "    .dataframe tbody tr th {\n",
              "        vertical-align: top;\n",
              "    }\n",
              "\n",
              "    .dataframe thead th {\n",
              "        text-align: right;\n",
              "    }\n",
              "</style>\n",
              "<table border=\"1\" class=\"dataframe\">\n",
              "  <thead>\n",
              "    <tr style=\"text-align: right;\">\n",
              "      <th></th>\n",
              "      <th>CRUDE_RUBBER_USD</th>\n",
              "      <th>USDRUB</th>\n",
              "      <th>EURUSD</th>\n",
              "      <th>EURRUB</th>\n",
              "      <th>MWP_PRICE_EUR</th>\n",
              "      <th>MWP_PRICE_USD</th>\n",
              "      <th>MWP_PRICE_RUB</th>\n",
              "      <th>MWP_PRICE_EUR_EU</th>\n",
              "      <th>MWP_PRICE_USD_CN</th>\n",
              "      <th>MWP_PRICE_USD_RU</th>\n",
              "      <th>MWP_PRICE_EUR_EU_MA</th>\n",
              "    </tr>\n",
              "  </thead>\n",
              "  <tbody>\n",
              "    <tr>\n",
              "      <th>2019-06-30</th>\n",
              "      <td>224.053175</td>\n",
              "      <td>64.168690</td>\n",
              "      <td>1.129002</td>\n",
              "      <td>72.458005</td>\n",
              "      <td>198.452423</td>\n",
              "      <td>224.053175</td>\n",
              "      <td>14377.198601</td>\n",
              "      <td>228.452423</td>\n",
              "      <td>354.053175</td>\n",
              "      <td>14377.198601</td>\n",
              "      <td>NaN</td>\n",
              "    </tr>\n",
              "    <tr>\n",
              "      <th>2019-07-31</th>\n",
              "      <td>207.373701</td>\n",
              "      <td>63.176222</td>\n",
              "      <td>1.122682</td>\n",
              "      <td>70.956822</td>\n",
              "      <td>184.712827</td>\n",
              "      <td>207.373701</td>\n",
              "      <td>13101.086907</td>\n",
              "      <td>214.712827</td>\n",
              "      <td>337.373701</td>\n",
              "      <td>13101.086907</td>\n",
              "      <td>NaN</td>\n",
              "    </tr>\n",
              "    <tr>\n",
              "      <th>2019-08-31</th>\n",
              "      <td>190.399660</td>\n",
              "      <td>65.687992</td>\n",
              "      <td>1.113163</td>\n",
              "      <td>73.143709</td>\n",
              "      <td>171.043794</td>\n",
              "      <td>190.399660</td>\n",
              "      <td>12506.971253</td>\n",
              "      <td>201.043794</td>\n",
              "      <td>320.399660</td>\n",
              "      <td>12506.971253</td>\n",
              "      <td>214.736348</td>\n",
              "    </tr>\n",
              "    <tr>\n",
              "      <th>2019-09-30</th>\n",
              "      <td>191.488492</td>\n",
              "      <td>64.971148</td>\n",
              "      <td>1.101377</td>\n",
              "      <td>71.589861</td>\n",
              "      <td>173.862806</td>\n",
              "      <td>191.488492</td>\n",
              "      <td>12441.227087</td>\n",
              "      <td>203.862806</td>\n",
              "      <td>321.488492</td>\n",
              "      <td>12441.227087</td>\n",
              "      <td>206.539809</td>\n",
              "    </tr>\n",
              "    <tr>\n",
              "      <th>2019-10-31</th>\n",
              "      <td>186.057468</td>\n",
              "      <td>64.341009</td>\n",
              "      <td>1.104839</td>\n",
              "      <td>71.093322</td>\n",
              "      <td>168.402286</td>\n",
              "      <td>186.057468</td>\n",
              "      <td>11971.125235</td>\n",
              "      <td>198.402286</td>\n",
              "      <td>316.057468</td>\n",
              "      <td>11971.125235</td>\n",
              "      <td>201.102962</td>\n",
              "    </tr>\n",
              "    <tr>\n",
              "      <th>...</th>\n",
              "      <td>...</td>\n",
              "      <td>...</td>\n",
              "      <td>...</td>\n",
              "      <td>...</td>\n",
              "      <td>...</td>\n",
              "      <td>...</td>\n",
              "      <td>...</td>\n",
              "      <td>...</td>\n",
              "      <td>...</td>\n",
              "      <td>...</td>\n",
              "      <td>...</td>\n",
              "    </tr>\n",
              "    <tr>\n",
              "      <th>2022-02-28</th>\n",
              "      <td>274.737302</td>\n",
              "      <td>77.466339</td>\n",
              "      <td>1.133995</td>\n",
              "      <td>87.878880</td>\n",
              "      <td>242.273716</td>\n",
              "      <td>274.737302</td>\n",
              "      <td>21282.892971</td>\n",
              "      <td>272.273716</td>\n",
              "      <td>404.737302</td>\n",
              "      <td>21282.892971</td>\n",
              "      <td>255.281824</td>\n",
              "    </tr>\n",
              "    <tr>\n",
              "      <th>2022-03-31</th>\n",
              "      <td>278.389752</td>\n",
              "      <td>111.013403</td>\n",
              "      <td>1.102412</td>\n",
              "      <td>132.952291</td>\n",
              "      <td>252.527753</td>\n",
              "      <td>278.389752</td>\n",
              "      <td>30904.993548</td>\n",
              "      <td>282.527753</td>\n",
              "      <td>408.389752</td>\n",
              "      <td>30904.993548</td>\n",
              "      <td>268.938530</td>\n",
              "    </tr>\n",
              "    <tr>\n",
              "      <th>2022-04-30</th>\n",
              "      <td>270.460150</td>\n",
              "      <td>80.666187</td>\n",
              "      <td>1.082745</td>\n",
              "      <td>86.109895</td>\n",
              "      <td>249.791294</td>\n",
              "      <td>270.460150</td>\n",
              "      <td>21816.989095</td>\n",
              "      <td>279.791294</td>\n",
              "      <td>400.460150</td>\n",
              "      <td>21816.989095</td>\n",
              "      <td>278.197588</td>\n",
              "    </tr>\n",
              "    <tr>\n",
              "      <th>2022-05-31</th>\n",
              "      <td>264.685317</td>\n",
              "      <td>65.422944</td>\n",
              "      <td>1.057322</td>\n",
              "      <td>68.104363</td>\n",
              "      <td>250.335487</td>\n",
              "      <td>264.685317</td>\n",
              "      <td>17316.492605</td>\n",
              "      <td>280.335487</td>\n",
              "      <td>394.685317</td>\n",
              "      <td>17316.492605</td>\n",
              "      <td>280.884845</td>\n",
              "    </tr>\n",
              "    <tr>\n",
              "      <th>2022-06-30</th>\n",
              "      <td>255.559864</td>\n",
              "      <td>60.146091</td>\n",
              "      <td>1.057670</td>\n",
              "      <td>60.378959</td>\n",
              "      <td>241.625434</td>\n",
              "      <td>255.559864</td>\n",
              "      <td>15370.926906</td>\n",
              "      <td>271.625434</td>\n",
              "      <td>385.559864</td>\n",
              "      <td>15370.926906</td>\n",
              "      <td>277.250738</td>\n",
              "    </tr>\n",
              "  </tbody>\n",
              "</table>\n",
              "<p>37 rows × 11 columns</p>\n",
              "</div>\n",
              "      <button class=\"colab-df-convert\" onclick=\"convertToInteractive('df-568d05ec-f534-40ac-94dd-4a46883ea1b6')\"\n",
              "              title=\"Convert this dataframe to an interactive table.\"\n",
              "              style=\"display:none;\">\n",
              "        \n",
              "  <svg xmlns=\"http://www.w3.org/2000/svg\" height=\"24px\"viewBox=\"0 0 24 24\"\n",
              "       width=\"24px\">\n",
              "    <path d=\"M0 0h24v24H0V0z\" fill=\"none\"/>\n",
              "    <path d=\"M18.56 5.44l.94 2.06.94-2.06 2.06-.94-2.06-.94-.94-2.06-.94 2.06-2.06.94zm-11 1L8.5 8.5l.94-2.06 2.06-.94-2.06-.94L8.5 2.5l-.94 2.06-2.06.94zm10 10l.94 2.06.94-2.06 2.06-.94-2.06-.94-.94-2.06-.94 2.06-2.06.94z\"/><path d=\"M17.41 7.96l-1.37-1.37c-.4-.4-.92-.59-1.43-.59-.52 0-1.04.2-1.43.59L10.3 9.45l-7.72 7.72c-.78.78-.78 2.05 0 2.83L4 21.41c.39.39.9.59 1.41.59.51 0 1.02-.2 1.41-.59l7.78-7.78 2.81-2.81c.8-.78.8-2.07 0-2.86zM5.41 20L4 18.59l7.72-7.72 1.47 1.35L5.41 20z\"/>\n",
              "  </svg>\n",
              "      </button>\n",
              "      \n",
              "  <style>\n",
              "    .colab-df-container {\n",
              "      display:flex;\n",
              "      flex-wrap:wrap;\n",
              "      gap: 12px;\n",
              "    }\n",
              "\n",
              "    .colab-df-convert {\n",
              "      background-color: #E8F0FE;\n",
              "      border: none;\n",
              "      border-radius: 50%;\n",
              "      cursor: pointer;\n",
              "      display: none;\n",
              "      fill: #1967D2;\n",
              "      height: 32px;\n",
              "      padding: 0 0 0 0;\n",
              "      width: 32px;\n",
              "    }\n",
              "\n",
              "    .colab-df-convert:hover {\n",
              "      background-color: #E2EBFA;\n",
              "      box-shadow: 0px 1px 2px rgba(60, 64, 67, 0.3), 0px 1px 3px 1px rgba(60, 64, 67, 0.15);\n",
              "      fill: #174EA6;\n",
              "    }\n",
              "\n",
              "    [theme=dark] .colab-df-convert {\n",
              "      background-color: #3B4455;\n",
              "      fill: #D2E3FC;\n",
              "    }\n",
              "\n",
              "    [theme=dark] .colab-df-convert:hover {\n",
              "      background-color: #434B5C;\n",
              "      box-shadow: 0px 1px 3px 1px rgba(0, 0, 0, 0.15);\n",
              "      filter: drop-shadow(0px 1px 2px rgba(0, 0, 0, 0.3));\n",
              "      fill: #FFFFFF;\n",
              "    }\n",
              "  </style>\n",
              "\n",
              "      <script>\n",
              "        const buttonEl =\n",
              "          document.querySelector('#df-568d05ec-f534-40ac-94dd-4a46883ea1b6 button.colab-df-convert');\n",
              "        buttonEl.style.display =\n",
              "          google.colab.kernel.accessAllowed ? 'block' : 'none';\n",
              "\n",
              "        async function convertToInteractive(key) {\n",
              "          const element = document.querySelector('#df-568d05ec-f534-40ac-94dd-4a46883ea1b6');\n",
              "          const dataTable =\n",
              "            await google.colab.kernel.invokeFunction('convertToInteractive',\n",
              "                                                     [key], {});\n",
              "          if (!dataTable) return;\n",
              "\n",
              "          const docLinkHtml = 'Like what you see? Visit the ' +\n",
              "            '<a target=\"_blank\" href=https://colab.research.google.com/notebooks/data_table.ipynb>data table notebook</a>'\n",
              "            + ' to learn more about interactive tables.';\n",
              "          element.innerHTML = '';\n",
              "          dataTable['output_type'] = 'display_data';\n",
              "          await google.colab.output.renderOutput(dataTable, element);\n",
              "          const docLink = document.createElement('div');\n",
              "          docLink.innerHTML = docLinkHtml;\n",
              "          element.appendChild(docLink);\n",
              "        }\n",
              "      </script>\n",
              "    </div>\n",
              "  </div>\n",
              "  "
            ]
          },
          "metadata": {},
          "execution_count": 63
        }
      ]
    },
    {
      "cell_type": "code",
      "source": [
        "with pd.ExcelWriter('price_proposal_RU.xlsx', engine = 'xlsxwriter') as writer:\n",
        "        client_price = main_df['MWP_PRICE_USD_RU']\n",
        " \n",
        "       # print(client, v, disc)\n",
        "        client_price.to_excel(writer, sheet_name='price_proposal_RU')\n",
        "        # Добавляем график с ценой\n",
        "        plot_path = f'{client}_wbp.png'\n",
        "        plt.title('Цена ВБП(DDP)', fontsize=16, fontweight='bold')\n",
        "        plt.plot(client_price)\n",
        "        plt.savefig(plot_path)\n",
        "        plt.show()\n",
        "        worksheet = writer.sheets['price_proposal_RU']\n",
        "        worksheet.insert_image('C2',plot_path)"
      ],
      "metadata": {
        "colab": {
          "base_uri": "https://localhost:8080/",
          "height": 340
        },
        "id": "DFoKYL_amkvg",
        "outputId": "b72b2d1c-777b-4006-f1bc-d67148f6fd3b"
      },
      "execution_count": null,
      "outputs": [
        {
          "output_type": "display_data",
          "data": {
            "text/plain": [
              "<Figure size 720x360 with 1 Axes>"
            ],
            "image/png": "[encoded data removed]"
          },
          "metadata": {}
        }
      ]
    },
    {
      "cell_type": "markdown",
      "metadata": {
        "pycharm": {
          "name": "#%% md\n"
        },
        "id": "dKiaXm1MGxPx"
      },
      "source": [
        "# Задание 4. Check it"
      ]
    },
    {
      "cell_type": "markdown",
      "metadata": {
        "pycharm": {
          "name": "#%% md\n"
        },
        "id": "YVK3rF7oGxPy"
      },
      "source": [
        "* Подумайте, как можно проверить корректность работы алгоритма? \n",
        "* Какие возможны ошибки?\n",
        "* Придумайте тесты для проверки возможных ошибок алгоритма\n",
        "* Интергрируйте их в свои скрипты в виде исключений\n"
      ]
    },
    {
      "cell_type": "code",
      "execution_count": 1,
      "metadata": {
        "pycharm": {
          "name": "#%%\n"
        },
        "id": "oplkBwFCGxPy"
      },
      "outputs": [],
      "source": [
        "# ?????"
      ]
    },
    {
      "cell_type": "markdown",
      "metadata": {
        "pycharm": {
          "name": "#%% md\n"
        },
        "id": "qE5FROXiGxPz"
      },
      "source": [
        "# Задание 5. Поделись с ближним"
      ]
    },
    {
      "cell_type": "markdown",
      "metadata": {
        "pycharm": {
          "name": "#%% md\n"
        },
        "id": "GOcHO6RhGxP0"
      },
      "source": [
        "Вы решили пойти в отпуск на время вашего отсутствия вас будет заменять коллега. Он будет заниматься рассчетом цен для клиентов. Чтобы ему было проще вам нужно завернуть ваши скрипты в модуль, который будет запускать у себя коллега."
      ]
    },
    {
      "cell_type": "markdown",
      "metadata": {
        "pycharm": {
          "name": "#%% md\n"
        },
        "id": "oMbF5Q9dGxP0"
      },
      "source": [
        "* Создайте модуль, который можно запускать в ноутбуке подкладывая в ту же директорию\n",
        "* Хорошенько задокументируйте ВСЁ, но помните о PEP8"
      ]
    },
    {
      "cell_type": "code",
      "execution_count": null,
      "metadata": {
        "pycharm": {
          "name": "#%%\n"
        },
        "id": "xntKrhKkGxP0"
      },
      "outputs": [],
      "source": [
        "# https://github.com/zakonreal/da_homework_student2/blob/main/conf.py\n",
        "# https://github.com/zakonreal/da_homework_student2/blob/main/price_calculation.py\n",
        "# https://github.com/zakonreal/da_homework_student2/blob/main/price_calculation_mod.py\n",
        "# https://github.com/zakonreal/da_homework_student2/blob/main/Untitled8.ipynb"
      ]
    },
    {
      "cell_type": "markdown",
      "metadata": {
        "pycharm": {
          "name": "#%% md\n"
        },
        "id": "iLtOGIvQGxP1"
      },
      "source": [
        "# Задание 6. Поделись пакетом"
      ]
    },
    {
      "cell_type": "markdown",
      "metadata": {
        "pycharm": {
          "name": "#%% md\n"
        },
        "id": "MzAyJPBsGxP1"
      },
      "source": [
        "Ваши коллеги узнали, что вы быстро рассчитываете цены для формульных контрактов, и решили использовать такую же практику для своих продуктов и клиентов. Вам нужно создать пакет, чтобы его было проще устанавливать и использовать."
      ]
    },
    {
      "cell_type": "markdown",
      "metadata": {
        "pycharm": {
          "name": "#%% md\n"
        },
        "id": "OY5S_wRHGxP2"
      },
      "source": [
        "* Создайте отдельный пакет, который можно устанавливать с помощью pip \n",
        "* В пакете должны быть реализованы функции для рассчета цен по формульным контрактам\n",
        "* Выложите пакет в репозиторий"
      ]
    },
    {
      "cell_type": "code",
      "execution_count": null,
      "metadata": {
        "pycharm": {
          "name": "#%%\n"
        },
        "id": "-xBJpv8BGxP2"
      },
      "outputs": [],
      "source": [
        "# !pip install yourpackage\n",
        "# import yourpackage\n",
        "# https://nuancesprog.ru/p/9911/\n",
        "# ????? не получается\n",
        "# https://github.com/zakonreal/da_homework_student2/blob/main/Untitled9.ipynb"
      ]
    }
  ],
  "metadata": {
    "kernelspec": {
      "display_name": "Python 3",
      "language": "python",
      "name": "python3"
    },
    "language_info": {
      "codemirror_mode": {
        "name": "ipython",
        "version": 3
      },
      "file_extension": ".py",
      "mimetype": "text/x-python",
      "name": "python",
      "nbconvert_exporter": "python",
      "pygments_lexer": "ipython3",
      "version": "3.8.5"
    },
    "colab": {
      "name": "Копия блокнота \"SyntheticRubber.ipynb\"",
      "provenance": [],
      "collapsed_sections": [],
      "include_colab_link": true
    },
    "widgets": {
      "application/vnd.jupyter.widget-state+json": {
        "f9faca38a5a9463fa84ff2fa7020449a": {
          "model_module": "@jupyter-widgets/controls",
          "model_name": "HBoxModel",
          "model_module_version": "1.5.0",
          "state": {
            "_dom_classes": [],
            "_model_module": "@jupyter-widgets/controls",
            "_model_module_version": "1.5.0",
            "_model_name": "HBoxModel",
            "_view_count": null,
            "_view_module": "@jupyter-widgets/controls",
            "_view_module_version": "1.5.0",
            "_view_name": "HBoxView",
            "box_style": "",
            "children": [
              "IPY_MODEL_30640089613341b29ffa63f1ebe838b5",
              "IPY_MODEL_2f700f608fd1414889fa68e409fe2b04",
              "IPY_MODEL_8f781f4dda494717b7d14894d1d44758"
            ],
            "layout": "IPY_MODEL_16ab4ab98508486cb5f2c2d864968f07"
          }
        },
        "30640089613341b29ffa63f1ebe838b5": {
          "model_module": "@jupyter-widgets/controls",
          "model_name": "HTMLModel",
          "model_module_version": "1.5.0",
          "state": {
            "_dom_classes": [],
            "_model_module": "@jupyter-widgets/controls",
            "_model_module_version": "1.5.0",
            "_model_name": "HTMLModel",
            "_view_count": null,
            "_view_module": "@jupyter-widgets/controls",
            "_view_module_version": "1.5.0",
            "_view_name": "HTMLView",
            "description": "",
            "description_tooltip": null,
            "layout": "IPY_MODEL_863051e4f0a14a31a1349a13fec330f9",
            "placeholder": "​",
            "style": "IPY_MODEL_b6c3663dee4f4678914632b0a32b9ab0",
            "value": "100%"
          }
        },
        "2f700f608fd1414889fa68e409fe2b04": {
          "model_module": "@jupyter-widgets/controls",
          "model_name": "FloatProgressModel",
          "model_module_version": "1.5.0",
          "state": {
            "_dom_classes": [],
            "_model_module": "@jupyter-widgets/controls",
            "_model_module_version": "1.5.0",
            "_model_name": "FloatProgressModel",
            "_view_count": null,
            "_view_module": "@jupyter-widgets/controls",
            "_view_module_version": "1.5.0",
            "_view_name": "ProgressView",
            "bar_style": "success",
            "description": "",
            "description_tooltip": null,
            "layout": "IPY_MODEL_7a76ca19fe79463ab2704734e5e68039",
            "max": 3,
            "min": 0,
            "orientation": "horizontal",
            "style": "IPY_MODEL_67fe43e11aaa48edb58fa456621b192d",
            "value": 3
          }
        },
        "8f781f4dda494717b7d14894d1d44758": {
          "model_module": "@jupyter-widgets/controls",
          "model_name": "HTMLModel",
          "model_module_version": "1.5.0",
          "state": {
            "_dom_classes": [],
            "_model_module": "@jupyter-widgets/controls",
            "_model_module_version": "1.5.0",
            "_model_name": "HTMLModel",
            "_view_count": null,
            "_view_module": "@jupyter-widgets/controls",
            "_view_module_version": "1.5.0",
            "_view_name": "HTMLView",
            "description": "",
            "description_tooltip": null,
            "layout": "IPY_MODEL_695468940f7a4cc493c0db54d68afa45",
            "placeholder": "​",
            "style": "IPY_MODEL_d31a843d35a64934bf0e2edb0ec9d2c8",
            "value": " 3/3 [00:00&lt;00:00,  3.95it/s]"
          }
        },
        "16ab4ab98508486cb5f2c2d864968f07": {
          "model_module": "@jupyter-widgets/base",
          "model_name": "LayoutModel",
          "model_module_version": "1.2.0",
          "state": {
            "_model_module": "@jupyter-widgets/base",
            "_model_module_version": "1.2.0",
            "_model_name": "LayoutModel",
            "_view_count": null,
            "_view_module": "@jupyter-widgets/base",
            "_view_module_version": "1.2.0",
            "_view_name": "LayoutView",
            "align_content": null,
            "align_items": null,
            "align_self": null,
            "border": null,
            "bottom": null,
            "display": null,
            "flex": null,
            "flex_flow": null,
            "grid_area": null,
            "grid_auto_columns": null,
            "grid_auto_flow": null,
            "grid_auto_rows": null,
            "grid_column": null,
            "grid_gap": null,
            "grid_row": null,
            "grid_template_areas": null,
            "grid_template_columns": null,
            "grid_template_rows": null,
            "height": null,
            "justify_content": null,
            "justify_items": null,
            "left": null,
            "margin": null,
            "max_height": null,
            "max_width": null,
            "min_height": null,
            "min_width": null,
            "object_fit": null,
            "object_position": null,
            "order": null,
            "overflow": null,
            "overflow_x": null,
            "overflow_y": null,
            "padding": null,
            "right": null,
            "top": null,
            "visibility": null,
            "width": null
          }
        },
        "863051e4f0a14a31a1349a13fec330f9": {
          "model_module": "@jupyter-widgets/base",
          "model_name": "LayoutModel",
          "model_module_version": "1.2.0",
          "state": {
            "_model_module": "@jupyter-widgets/base",
            "_model_module_version": "1.2.0",
            "_model_name": "LayoutModel",
            "_view_count": null,
            "_view_module": "@jupyter-widgets/base",
            "_view_module_version": "1.2.0",
            "_view_name": "LayoutView",
            "align_content": null,
            "align_items": null,
            "align_self": null,
            "border": null,
            "bottom": null,
            "display": null,
            "flex": null,
            "flex_flow": null,
            "grid_area": null,
            "grid_auto_columns": null,
            "grid_auto_flow": null,
            "grid_auto_rows": null,
            "grid_column": null,
            "grid_gap": null,
            "grid_row": null,
            "grid_template_areas": null,
            "grid_template_columns": null,
            "grid_template_rows": null,
            "height": null,
            "justify_content": null,
            "justify_items": null,
            "left": null,
            "margin": null,
            "max_height": null,
            "max_width": null,
            "min_height": null,
            "min_width": null,
            "object_fit": null,
            "object_position": null,
            "order": null,
            "overflow": null,
            "overflow_x": null,
            "overflow_y": null,
            "padding": null,
            "right": null,
            "top": null,
            "visibility": null,
            "width": null
          }
        },
        "b6c3663dee4f4678914632b0a32b9ab0": {
          "model_module": "@jupyter-widgets/controls",
          "model_name": "DescriptionStyleModel",
          "model_module_version": "1.5.0",
          "state": {
            "_model_module": "@jupyter-widgets/controls",
            "_model_module_version": "1.5.0",
            "_model_name": "DescriptionStyleModel",
            "_view_count": null,
            "_view_module": "@jupyter-widgets/base",
            "_view_module_version": "1.2.0",
            "_view_name": "StyleView",
            "description_width": ""
          }
        },
        "7a76ca19fe79463ab2704734e5e68039": {
          "model_module": "@jupyter-widgets/base",
          "model_name": "LayoutModel",
          "model_module_version": "1.2.0",
          "state": {
            "_model_module": "@jupyter-widgets/base",
            "_model_module_version": "1.2.0",
            "_model_name": "LayoutModel",
            "_view_count": null,
            "_view_module": "@jupyter-widgets/base",
            "_view_module_version": "1.2.0",
            "_view_name": "LayoutView",
            "align_content": null,
            "align_items": null,
            "align_self": null,
            "border": null,
            "bottom": null,
            "display": null,
            "flex": null,
            "flex_flow": null,
            "grid_area": null,
            "grid_auto_columns": null,
            "grid_auto_flow": null,
            "grid_auto_rows": null,
            "grid_column": null,
            "grid_gap": null,
            "grid_row": null,
            "grid_template_areas": null,
            "grid_template_columns": null,
            "grid_template_rows": null,
            "height": null,
            "justify_content": null,
            "justify_items": null,
            "left": null,
            "margin": null,
            "max_height": null,
            "max_width": null,
            "min_height": null,
            "min_width": null,
            "object_fit": null,
            "object_position": null,
            "order": null,
            "overflow": null,
            "overflow_x": null,
            "overflow_y": null,
            "padding": null,
            "right": null,
            "top": null,
            "visibility": null,
            "width": null
          }
        },
        "67fe43e11aaa48edb58fa456621b192d": {
          "model_module": "@jupyter-widgets/controls",
          "model_name": "ProgressStyleModel",
          "model_module_version": "1.5.0",
          "state": {
            "_model_module": "@jupyter-widgets/controls",
            "_model_module_version": "1.5.0",
            "_model_name": "ProgressStyleModel",
            "_view_count": null,
            "_view_module": "@jupyter-widgets/base",
            "_view_module_version": "1.2.0",
            "_view_name": "StyleView",
            "bar_color": null,
            "description_width": ""
          }
        },
        "695468940f7a4cc493c0db54d68afa45": {
          "model_module": "@jupyter-widgets/base",
          "model_name": "LayoutModel",
          "model_module_version": "1.2.0",
          "state": {
            "_model_module": "@jupyter-widgets/base",
            "_model_module_version": "1.2.0",
            "_model_name": "LayoutModel",
            "_view_count": null,
            "_view_module": "@jupyter-widgets/base",
            "_view_module_version": "1.2.0",
            "_view_name": "LayoutView",
            "align_content": null,
            "align_items": null,
            "align_self": null,
            "border": null,
            "bottom": null,
            "display": null,
            "flex": null,
            "flex_flow": null,
            "grid_area": null,
            "grid_auto_columns": null,
            "grid_auto_flow": null,
            "grid_auto_rows": null,
            "grid_column": null,
            "grid_gap": null,
            "grid_row": null,
            "grid_template_areas": null,
            "grid_template_columns": null,
            "grid_template_rows": null,
            "height": null,
            "justify_content": null,
            "justify_items": null,
            "left": null,
            "margin": null,
            "max_height": null,
            "max_width": null,
            "min_height": null,
            "min_width": null,
            "object_fit": null,
            "object_position": null,
            "order": null,
            "overflow": null,
            "overflow_x": null,
            "overflow_y": null,
            "padding": null,
            "right": null,
            "top": null,
            "visibility": null,
            "width": null
          }
        },
        "d31a843d35a64934bf0e2edb0ec9d2c8": {
          "model_module": "@jupyter-widgets/controls",
          "model_name": "DescriptionStyleModel",
          "model_module_version": "1.5.0",
          "state": {
            "_model_module": "@jupyter-widgets/controls",
            "_model_module_version": "1.5.0",
            "_model_name": "DescriptionStyleModel",
            "_view_count": null,
            "_view_module": "@jupyter-widgets/base",
            "_view_module_version": "1.2.0",
            "_view_name": "StyleView",
            "description_width": ""
          }
        }
      }
    }
  },
  "nbformat": 4,
  "nbformat_minor": 0
}